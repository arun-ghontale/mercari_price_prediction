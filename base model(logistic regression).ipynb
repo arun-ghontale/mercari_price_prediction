{
  "nbformat": 4,
  "nbformat_minor": 0,
  "metadata": {
    "colab": {
      "name": "Internship - Mercari Price Predicition.ipynb",
      "version": "0.3.2",
      "provenance": [],
      "collapsed_sections": []
    },
    "kernelspec": {
      "display_name": "Python 3",
      "language": "python",
      "name": "python3"
    }
  },
  "cells": [
    {
      "metadata": {
        "id": "n-36bQalJWQi",
        "colab_type": "code",
        "colab": {}
      },
      "cell_type": "code",
      "source": [
        "import numpy as np\n",
        "import pandas as pd\n",
        "import seaborn as sns\n",
        "import matplotlib.pyplot as plt"
      ],
      "execution_count": 0,
      "outputs": []
    },
    {
      "metadata": {
        "id": "BKJSlhL7gUt_",
        "colab_type": "code",
        "outputId": "1a64576b-26fc-469a-b7c1-95c391afe1db",
        "colab": {
          "resources": {
            "http://localhost:8080/nbextensions/google.colab/files.js": {
              "data": "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",
              "ok": true,
              "headers": [
                [
                  "content-type",
                  "application/javascript"
                ]
              ],
              "status": 200,
              "status_text": ""
            }
          },
          "base_uri": "https://localhost:8080/",
          "height": 72
        }
      },
      "cell_type": "code",
      "source": [
        "from google.colab import files\n",
        "\n",
        "uploaded = files.upload()\n"
      ],
      "execution_count": 0,
      "outputs": [
        {
          "output_type": "display_data",
          "data": {
            "text/html": [
              "\n",
              "     <input type=\"file\" id=\"files-7cba6b4d-5ef5-4b3d-9b6e-17c096ac5554\" name=\"files[]\" multiple disabled />\n",
              "     <output id=\"result-7cba6b4d-5ef5-4b3d-9b6e-17c096ac5554\">\n",
              "      Upload widget is only available when the cell has been executed in the\n",
              "      current browser session. Please rerun this cell to enable.\n",
              "      </output>\n",
              "      <script src=\"/nbextensions/google.colab/files.js\"></script> "
            ],
            "text/plain": [
              "<IPython.core.display.HTML object>"
            ]
          },
          "metadata": {
            "tags": []
          }
        },
        {
          "output_type": "stream",
          "text": [
            "Saving train.tsv to train.tsv\n"
          ],
          "name": "stdout"
        }
      ]
    },
    {
      "metadata": {
        "id": "usvDREuGJWQo",
        "colab_type": "code",
        "colab": {}
      },
      "cell_type": "code",
      "source": [
        "train=pd.read_csv('train.tsv',sep='\\t')\n",
        "#test=pd.read_csv('test.tsv',sep='\\t')"
      ],
      "execution_count": 0,
      "outputs": []
    },
    {
      "metadata": {
        "id": "zuFdRY8_JWQs",
        "colab_type": "code",
        "outputId": "b4b1ce82-94de-4f98-dca8-2baf2c580b71",
        "colab": {}
      },
      "cell_type": "code",
      "source": [
        "train"
      ],
      "execution_count": 0,
      "outputs": [
        {
          "output_type": "execute_result",
          "data": {
            "text/html": [
              "<div>\n",
              "<style scoped>\n",
              "    .dataframe tbody tr th:only-of-type {\n",
              "        vertical-align: middle;\n",
              "    }\n",
              "\n",
              "    .dataframe tbody tr th {\n",
              "        vertical-align: top;\n",
              "    }\n",
              "\n",
              "    .dataframe thead th {\n",
              "        text-align: right;\n",
              "    }\n",
              "</style>\n",
              "<table border=\"1\" class=\"dataframe\">\n",
              "  <thead>\n",
              "    <tr style=\"text-align: right;\">\n",
              "      <th></th>\n",
              "      <th>train_id</th>\n",
              "      <th>name</th>\n",
              "      <th>item_condition_id</th>\n",
              "      <th>category_name</th>\n",
              "      <th>brand_name</th>\n",
              "      <th>price</th>\n",
              "      <th>shipping</th>\n",
              "      <th>item_description</th>\n",
              "    </tr>\n",
              "  </thead>\n",
              "  <tbody>\n",
              "    <tr>\n",
              "      <th>0</th>\n",
              "      <td>0</td>\n",
              "      <td>MLB Cincinnati Reds T Shirt Size XL</td>\n",
              "      <td>3</td>\n",
              "      <td>Men/Tops/T-shirts</td>\n",
              "      <td>NaN</td>\n",
              "      <td>10.0</td>\n",
              "      <td>1</td>\n",
              "      <td>No description yet</td>\n",
              "    </tr>\n",
              "    <tr>\n",
              "      <th>1</th>\n",
              "      <td>1</td>\n",
              "      <td>Razer BlackWidow Chroma Keyboard</td>\n",
              "      <td>3</td>\n",
              "      <td>Electronics/Computers &amp; Tablets/Components &amp; P...</td>\n",
              "      <td>Razer</td>\n",
              "      <td>52.0</td>\n",
              "      <td>0</td>\n",
              "      <td>This keyboard is in great condition and works ...</td>\n",
              "    </tr>\n",
              "    <tr>\n",
              "      <th>2</th>\n",
              "      <td>2</td>\n",
              "      <td>AVA-VIV Blouse</td>\n",
              "      <td>1</td>\n",
              "      <td>Women/Tops &amp; Blouses/Blouse</td>\n",
              "      <td>Target</td>\n",
              "      <td>10.0</td>\n",
              "      <td>1</td>\n",
              "      <td>Adorable top with a hint of lace and a key hol...</td>\n",
              "    </tr>\n",
              "    <tr>\n",
              "      <th>3</th>\n",
              "      <td>3</td>\n",
              "      <td>Leather Horse Statues</td>\n",
              "      <td>1</td>\n",
              "      <td>Home/Home Décor/Home Décor Accents</td>\n",
              "      <td>NaN</td>\n",
              "      <td>35.0</td>\n",
              "      <td>1</td>\n",
              "      <td>New with tags. Leather horses. Retail for [rm]...</td>\n",
              "    </tr>\n",
              "    <tr>\n",
              "      <th>4</th>\n",
              "      <td>4</td>\n",
              "      <td>24K GOLD plated rose</td>\n",
              "      <td>1</td>\n",
              "      <td>Women/Jewelry/Necklaces</td>\n",
              "      <td>NaN</td>\n",
              "      <td>44.0</td>\n",
              "      <td>0</td>\n",
              "      <td>Complete with certificate of authenticity</td>\n",
              "    </tr>\n",
              "    <tr>\n",
              "      <th>5</th>\n",
              "      <td>5</td>\n",
              "      <td>Bundled items requested for Ruie</td>\n",
              "      <td>3</td>\n",
              "      <td>Women/Other/Other</td>\n",
              "      <td>NaN</td>\n",
              "      <td>59.0</td>\n",
              "      <td>0</td>\n",
              "      <td>Banana republic bottoms, Candies skirt with ma...</td>\n",
              "    </tr>\n",
              "    <tr>\n",
              "      <th>6</th>\n",
              "      <td>6</td>\n",
              "      <td>Acacia pacific tides santorini top</td>\n",
              "      <td>3</td>\n",
              "      <td>Women/Swimwear/Two-Piece</td>\n",
              "      <td>Acacia Swimwear</td>\n",
              "      <td>64.0</td>\n",
              "      <td>0</td>\n",
              "      <td>Size small but straps slightly shortened to fi...</td>\n",
              "    </tr>\n",
              "    <tr>\n",
              "      <th>7</th>\n",
              "      <td>7</td>\n",
              "      <td>Girls cheer and tumbling bundle of 7</td>\n",
              "      <td>3</td>\n",
              "      <td>Sports &amp; Outdoors/Apparel/Girls</td>\n",
              "      <td>Soffe</td>\n",
              "      <td>6.0</td>\n",
              "      <td>1</td>\n",
              "      <td>You get three pairs of Sophie cheer shorts siz...</td>\n",
              "    </tr>\n",
              "    <tr>\n",
              "      <th>8</th>\n",
              "      <td>8</td>\n",
              "      <td>Girls Nike Pro shorts</td>\n",
              "      <td>3</td>\n",
              "      <td>Sports &amp; Outdoors/Apparel/Girls</td>\n",
              "      <td>Nike</td>\n",
              "      <td>19.0</td>\n",
              "      <td>0</td>\n",
              "      <td>Girls Size small Plus green. Three shorts total.</td>\n",
              "    </tr>\n",
              "    <tr>\n",
              "      <th>9</th>\n",
              "      <td>9</td>\n",
              "      <td>Porcelain clown doll checker pants VTG</td>\n",
              "      <td>3</td>\n",
              "      <td>Vintage &amp; Collectibles/Collectibles/Doll</td>\n",
              "      <td>NaN</td>\n",
              "      <td>8.0</td>\n",
              "      <td>0</td>\n",
              "      <td>I realized his pants are on backwards after th...</td>\n",
              "    </tr>\n",
              "    <tr>\n",
              "      <th>10</th>\n",
              "      <td>10</td>\n",
              "      <td>Smashbox primer</td>\n",
              "      <td>2</td>\n",
              "      <td>Beauty/Makeup/Face</td>\n",
              "      <td>Smashbox</td>\n",
              "      <td>8.0</td>\n",
              "      <td>1</td>\n",
              "      <td>0.25 oz Full size is 1oz for [rm] in Sephora</td>\n",
              "    </tr>\n",
              "    <tr>\n",
              "      <th>11</th>\n",
              "      <td>11</td>\n",
              "      <td>New vs pi k body mists</td>\n",
              "      <td>1</td>\n",
              "      <td>Beauty/Fragrance/Women</td>\n",
              "      <td>Victoria's Secret</td>\n",
              "      <td>34.0</td>\n",
              "      <td>0</td>\n",
              "      <td>(5) new vs pink body mists (2.5 oz each) Fresh...</td>\n",
              "    </tr>\n",
              "    <tr>\n",
              "      <th>12</th>\n",
              "      <td>12</td>\n",
              "      <td>Black Skater dress</td>\n",
              "      <td>2</td>\n",
              "      <td>Women/Dresses/Above Knee, Mini</td>\n",
              "      <td>rue</td>\n",
              "      <td>16.0</td>\n",
              "      <td>0</td>\n",
              "      <td>Xl, great condition</td>\n",
              "    </tr>\n",
              "    <tr>\n",
              "      <th>13</th>\n",
              "      <td>13</td>\n",
              "      <td>Sharpener and eraser</td>\n",
              "      <td>1</td>\n",
              "      <td>Other/Office supplies/School Supplies</td>\n",
              "      <td>Scholastic</td>\n",
              "      <td>4.0</td>\n",
              "      <td>1</td>\n",
              "      <td>No description yet</td>\n",
              "    </tr>\n",
              "    <tr>\n",
              "      <th>14</th>\n",
              "      <td>14</td>\n",
              "      <td>HOLD for Dogs2016 Minnetonka boots</td>\n",
              "      <td>3</td>\n",
              "      <td>Women/Shoes/Boots</td>\n",
              "      <td>UGG Australia</td>\n",
              "      <td>43.0</td>\n",
              "      <td>0</td>\n",
              "      <td>Authentic. Suede fringe boots. Great condition...</td>\n",
              "    </tr>\n",
              "    <tr>\n",
              "      <th>15</th>\n",
              "      <td>15</td>\n",
              "      <td>Sephora tarte birthday gift</td>\n",
              "      <td>1</td>\n",
              "      <td>Beauty/Makeup/Makeup Sets</td>\n",
              "      <td>Tarte</td>\n",
              "      <td>11.0</td>\n",
              "      <td>1</td>\n",
              "      <td>Brand new. Deluxe travel size products. Contai...</td>\n",
              "    </tr>\n",
              "    <tr>\n",
              "      <th>16</th>\n",
              "      <td>16</td>\n",
              "      <td>Glitter Eyeshadow</td>\n",
              "      <td>1</td>\n",
              "      <td>Beauty/Makeup/Eyes</td>\n",
              "      <td>Wet n Wild</td>\n",
              "      <td>6.0</td>\n",
              "      <td>1</td>\n",
              "      <td>2 glitter eyeshadows; one in Brass and one in ...</td>\n",
              "    </tr>\n",
              "    <tr>\n",
              "      <th>17</th>\n",
              "      <td>17</td>\n",
              "      <td>New: Baby K'tan active baby carrier</td>\n",
              "      <td>1</td>\n",
              "      <td>Kids/Gear/Backpacks &amp; Carriers</td>\n",
              "      <td>NaN</td>\n",
              "      <td>29.0</td>\n",
              "      <td>1</td>\n",
              "      <td>Brand new in box Size: Medium Color: Coral Ret...</td>\n",
              "    </tr>\n",
              "    <tr>\n",
              "      <th>18</th>\n",
              "      <td>18</td>\n",
              "      <td>Too Faced Limited \"Merry Macaroons\"</td>\n",
              "      <td>1</td>\n",
              "      <td>Beauty/Makeup/Makeup Palettes</td>\n",
              "      <td>Too Faced</td>\n",
              "      <td>25.0</td>\n",
              "      <td>1</td>\n",
              "      <td>This AUTHENTIC pallete by Too Faced is brand n...</td>\n",
              "    </tr>\n",
              "    <tr>\n",
              "      <th>19</th>\n",
              "      <td>19</td>\n",
              "      <td>Cream/ Beige Front Cross Shirt</td>\n",
              "      <td>2</td>\n",
              "      <td>Women/Tops &amp; Blouses/Blouse</td>\n",
              "      <td>Anthropologie</td>\n",
              "      <td>27.0</td>\n",
              "      <td>0</td>\n",
              "      <td>Fancy, dressy or casual! Dress it up or down 1...</td>\n",
              "    </tr>\n",
              "    <tr>\n",
              "      <th>20</th>\n",
              "      <td>20</td>\n",
              "      <td>Torrid Nautical Peplum Tube Top</td>\n",
              "      <td>3</td>\n",
              "      <td>Women/Tops &amp; Blouses/Tank, Cami</td>\n",
              "      <td>Torrid</td>\n",
              "      <td>13.0</td>\n",
              "      <td>1</td>\n",
              "      <td>Size 1. Worn once. Excellent condition</td>\n",
              "    </tr>\n",
              "    <tr>\n",
              "      <th>21</th>\n",
              "      <td>21</td>\n",
              "      <td>NWT VS ULTIMATE SPORTS BRA 34ddd</td>\n",
              "      <td>1</td>\n",
              "      <td>Women/Athletic Apparel/Sports Bras</td>\n",
              "      <td>Victoria's Secret</td>\n",
              "      <td>20.0</td>\n",
              "      <td>0</td>\n",
              "      <td>NWT Victoria's Secret ULTIMATE SPORT BRA -MAXI...</td>\n",
              "    </tr>\n",
              "    <tr>\n",
              "      <th>22</th>\n",
              "      <td>22</td>\n",
              "      <td>Galaxy S7 Edge (Unlocked) 32GB</td>\n",
              "      <td>3</td>\n",
              "      <td>Electronics/Cell Phones &amp; Accessories/Cell Pho...</td>\n",
              "      <td>Samsung</td>\n",
              "      <td>386.0</td>\n",
              "      <td>0</td>\n",
              "      <td>Reasonable offers welcomed. But if you ask \"lo...</td>\n",
              "    </tr>\n",
              "    <tr>\n",
              "      <th>23</th>\n",
              "      <td>23</td>\n",
              "      <td>Triple car charger</td>\n",
              "      <td>1</td>\n",
              "      <td>Electronics/Cell Phones &amp; Accessories/Chargers...</td>\n",
              "      <td>NaN</td>\n",
              "      <td>8.0</td>\n",
              "      <td>1</td>\n",
              "      <td>Brand new never used All colors are available ...</td>\n",
              "    </tr>\n",
              "    <tr>\n",
              "      <th>24</th>\n",
              "      <td>24</td>\n",
              "      <td>Black and Red Baseball Tee</td>\n",
              "      <td>2</td>\n",
              "      <td>Women/Tops &amp; Blouses/T-Shirts</td>\n",
              "      <td>FOREVER 21</td>\n",
              "      <td>10.0</td>\n",
              "      <td>0</td>\n",
              "      <td>lanascloset ~~~ description: never worn! ✨ i d...</td>\n",
              "    </tr>\n",
              "    <tr>\n",
              "      <th>25</th>\n",
              "      <td>25</td>\n",
              "      <td>Air Jordan carmine 6s</td>\n",
              "      <td>3</td>\n",
              "      <td>Men/Shoes/Athletic</td>\n",
              "      <td>Air Jordan</td>\n",
              "      <td>66.0</td>\n",
              "      <td>0</td>\n",
              "      <td>They are 100 percent authentic. They are beate...</td>\n",
              "    </tr>\n",
              "    <tr>\n",
              "      <th>26</th>\n",
              "      <td>26</td>\n",
              "      <td>Otterbox Defender iPhone 6 Plus/6s Plus</td>\n",
              "      <td>1</td>\n",
              "      <td>Electronics/Cell Phones &amp; Accessories/Cases, C...</td>\n",
              "      <td>Apple</td>\n",
              "      <td>13.0</td>\n",
              "      <td>1</td>\n",
              "      <td>Brand new Otterbox Defender iPhone 6 Plus/6s Plus</td>\n",
              "    </tr>\n",
              "    <tr>\n",
              "      <th>27</th>\n",
              "      <td>27</td>\n",
              "      <td>LuLaRoe OS Black With White Polka Dots</td>\n",
              "      <td>3</td>\n",
              "      <td>Women/Athletic Apparel/Pants, Tights, Leggings</td>\n",
              "      <td>LuLaRoe</td>\n",
              "      <td>24.0</td>\n",
              "      <td>0</td>\n",
              "      <td>Worn one time. Excellent condition</td>\n",
              "    </tr>\n",
              "    <tr>\n",
              "      <th>28</th>\n",
              "      <td>28</td>\n",
              "      <td>Forever21 floral romper strapless</td>\n",
              "      <td>2</td>\n",
              "      <td>Women/Swimwear/One-Piece</td>\n",
              "      <td>FOREVER 21</td>\n",
              "      <td>5.0</td>\n",
              "      <td>1</td>\n",
              "      <td>Beautiful Excellent condition Zips and ties in...</td>\n",
              "    </tr>\n",
              "    <tr>\n",
              "      <th>29</th>\n",
              "      <td>29</td>\n",
              "      <td>Kendra bundle</td>\n",
              "      <td>3</td>\n",
              "      <td>Women/Jeans/Boot Cut</td>\n",
              "      <td>Hollister</td>\n",
              "      <td>16.0</td>\n",
              "      <td>1</td>\n",
              "      <td>29w. X 33l. Social stretch hollister jeans ***...</td>\n",
              "    </tr>\n",
              "    <tr>\n",
              "      <th>...</th>\n",
              "      <td>...</td>\n",
              "      <td>...</td>\n",
              "      <td>...</td>\n",
              "      <td>...</td>\n",
              "      <td>...</td>\n",
              "      <td>...</td>\n",
              "      <td>...</td>\n",
              "      <td>...</td>\n",
              "    </tr>\n",
              "    <tr>\n",
              "      <th>1482505</th>\n",
              "      <td>1482505</td>\n",
              "      <td>NorthFace rain jacket!</td>\n",
              "      <td>3</td>\n",
              "      <td>Women/Coats &amp; Jackets/Raincoat</td>\n",
              "      <td>The North Face</td>\n",
              "      <td>34.0</td>\n",
              "      <td>0</td>\n",
              "      <td>great condition! a few signs of wear on the in...</td>\n",
              "    </tr>\n",
              "    <tr>\n",
              "      <th>1482506</th>\n",
              "      <td>1482506</td>\n",
              "      <td>KitchenAid 4.5 quart mixer</td>\n",
              "      <td>1</td>\n",
              "      <td>Home/Home Appliances/Kitchen Appliances</td>\n",
              "      <td>KitchenAid</td>\n",
              "      <td>165.0</td>\n",
              "      <td>0</td>\n",
              "      <td>Brand new sealed in box kitchen aid kitchenaid...</td>\n",
              "    </tr>\n",
              "    <tr>\n",
              "      <th>1482507</th>\n",
              "      <td>1482507</td>\n",
              "      <td>Grand Theft Auto V: XBOX ONE</td>\n",
              "      <td>3</td>\n",
              "      <td>Electronics/Video Games &amp; Consoles/Games</td>\n",
              "      <td>NaN</td>\n",
              "      <td>24.0</td>\n",
              "      <td>0</td>\n",
              "      <td>Just the game and the case. Lightly used.</td>\n",
              "    </tr>\n",
              "    <tr>\n",
              "      <th>1482508</th>\n",
              "      <td>1482508</td>\n",
              "      <td>Victoria secret black bag</td>\n",
              "      <td>1</td>\n",
              "      <td>Women/Women's Handbags/Shoulder Bag</td>\n",
              "      <td>Victoria's Secret</td>\n",
              "      <td>21.0</td>\n",
              "      <td>0</td>\n",
              "      <td>New with tags</td>\n",
              "    </tr>\n",
              "    <tr>\n",
              "      <th>1482509</th>\n",
              "      <td>1482509</td>\n",
              "      <td>Fitbit Charge 2</td>\n",
              "      <td>3</td>\n",
              "      <td>Sports &amp; Outdoors/Exercise/Fitness accessories</td>\n",
              "      <td>NaN</td>\n",
              "      <td>95.0</td>\n",
              "      <td>1</td>\n",
              "      <td>Fit bit charge 2, comes with box, charger pack...</td>\n",
              "    </tr>\n",
              "    <tr>\n",
              "      <th>1482510</th>\n",
              "      <td>1482510</td>\n",
              "      <td>2×Popsockets for all phone &amp; Tablet</td>\n",
              "      <td>1</td>\n",
              "      <td>Electronics/Cell Phones &amp; Accessories/Cell Pho...</td>\n",
              "      <td>NaN</td>\n",
              "      <td>9.0</td>\n",
              "      <td>1</td>\n",
              "      <td>Popsockets for all phone &amp; Tablet Add 1 clip m...</td>\n",
              "    </tr>\n",
              "    <tr>\n",
              "      <th>1482511</th>\n",
              "      <td>1482511</td>\n",
              "      <td>Bebe Beauty Gloss Icon Lip Gloss</td>\n",
              "      <td>1</td>\n",
              "      <td>Beauty/Makeup/Lips</td>\n",
              "      <td>NaN</td>\n",
              "      <td>5.0</td>\n",
              "      <td>1</td>\n",
              "      <td>Brand: Bebe Beauty lip gloss, in color Icon. B...</td>\n",
              "    </tr>\n",
              "    <tr>\n",
              "      <th>1482512</th>\n",
              "      <td>1482512</td>\n",
              "      <td>Lululemon</td>\n",
              "      <td>2</td>\n",
              "      <td>Women/Athletic Apparel/Shirts &amp; Tops</td>\n",
              "      <td>Lululemon</td>\n",
              "      <td>34.0</td>\n",
              "      <td>0</td>\n",
              "      <td>NWOT - Blue - size 8</td>\n",
              "    </tr>\n",
              "    <tr>\n",
              "      <th>1482513</th>\n",
              "      <td>1482513</td>\n",
              "      <td>Yugioh Ultra Rare B. Skull Dragon</td>\n",
              "      <td>3</td>\n",
              "      <td>Vintage &amp; Collectibles/Trading Cards/Animation</td>\n",
              "      <td>Konami</td>\n",
              "      <td>5.0</td>\n",
              "      <td>1</td>\n",
              "      <td>Yu-Gi-Oh Ultra Rare Single Card in NM conditio...</td>\n",
              "    </tr>\n",
              "    <tr>\n",
              "      <th>1482514</th>\n",
              "      <td>1482514</td>\n",
              "      <td>Anthropologie Purse!</td>\n",
              "      <td>3</td>\n",
              "      <td>Handmade/Bags and Purses/Purse</td>\n",
              "      <td>NaN</td>\n",
              "      <td>23.0</td>\n",
              "      <td>0</td>\n",
              "      <td>Leather Navy and creme polka dot With brown ac...</td>\n",
              "    </tr>\n",
              "    <tr>\n",
              "      <th>1482515</th>\n",
              "      <td>1482515</td>\n",
              "      <td>Pink Yankees hoodie</td>\n",
              "      <td>3</td>\n",
              "      <td>Women/Sweaters/Hooded</td>\n",
              "      <td>PINK</td>\n",
              "      <td>20.0</td>\n",
              "      <td>1</td>\n",
              "      <td>Size medium</td>\n",
              "    </tr>\n",
              "    <tr>\n",
              "      <th>1482516</th>\n",
              "      <td>1482516</td>\n",
              "      <td>New Bath &amp; Body Works Scented Candle</td>\n",
              "      <td>1</td>\n",
              "      <td>Home/Home Décor/Candles &amp; Holders</td>\n",
              "      <td>Bath &amp; Body Works</td>\n",
              "      <td>15.0</td>\n",
              "      <td>0</td>\n",
              "      <td>Bath &amp; Body Works Scented Candle Vanilla Bloss...</td>\n",
              "    </tr>\n",
              "    <tr>\n",
              "      <th>1482517</th>\n",
              "      <td>1482517</td>\n",
              "      <td>34D VS PINK red push up bra</td>\n",
              "      <td>3</td>\n",
              "      <td>Women/Underwear/Bras</td>\n",
              "      <td>PINK</td>\n",
              "      <td>11.0</td>\n",
              "      <td>0</td>\n",
              "      <td>To see all of the bras I have listed key in JB...</td>\n",
              "    </tr>\n",
              "    <tr>\n",
              "      <th>1482518</th>\n",
              "      <td>1482518</td>\n",
              "      <td>Brooches: lot of 5 assorted (1 Coro)</td>\n",
              "      <td>3</td>\n",
              "      <td>Vintage &amp; Collectibles/Jewelry/Brooch</td>\n",
              "      <td>NaN</td>\n",
              "      <td>10.0</td>\n",
              "      <td>1</td>\n",
              "      <td>3 appear to be VTG. The pink one is Coro.</td>\n",
              "    </tr>\n",
              "    <tr>\n",
              "      <th>1482519</th>\n",
              "      <td>1482519</td>\n",
              "      <td>SALE! FreeShip VS Logo Thong</td>\n",
              "      <td>1</td>\n",
              "      <td>Women/Underwear/Panties</td>\n",
              "      <td>PINK</td>\n",
              "      <td>9.0</td>\n",
              "      <td>1</td>\n",
              "      <td>Brand new with tags, Victoria Secret logo thon...</td>\n",
              "    </tr>\n",
              "    <tr>\n",
              "      <th>1482520</th>\n",
              "      <td>1482520</td>\n",
              "      <td>Bundle for BeSpa</td>\n",
              "      <td>3</td>\n",
              "      <td>Kids/Boys 0-24 Mos/One-Pieces</td>\n",
              "      <td>Gap</td>\n",
              "      <td>18.0</td>\n",
              "      <td>1</td>\n",
              "      <td>Bundle of Baby Gap's First Favorites 3-6 month...</td>\n",
              "    </tr>\n",
              "    <tr>\n",
              "      <th>1482521</th>\n",
              "      <td>1482521</td>\n",
              "      <td>Tarte Amazonian clay 12 hour blush</td>\n",
              "      <td>1</td>\n",
              "      <td>Beauty/Makeup/Face</td>\n",
              "      <td>Tarte</td>\n",
              "      <td>9.0</td>\n",
              "      <td>1</td>\n",
              "      <td>Brand new, never used.</td>\n",
              "    </tr>\n",
              "    <tr>\n",
              "      <th>1482522</th>\n",
              "      <td>1482522</td>\n",
              "      <td>LG K7/Tribute 5 Hybrid Case</td>\n",
              "      <td>1</td>\n",
              "      <td>Electronics/Cell Phones &amp; Accessories/Cases, C...</td>\n",
              "      <td>NaN</td>\n",
              "      <td>8.0</td>\n",
              "      <td>1</td>\n",
              "      <td>Perfect Design for LG Tribute 5 / LG K7, NOT f...</td>\n",
              "    </tr>\n",
              "    <tr>\n",
              "      <th>1482523</th>\n",
              "      <td>1482523</td>\n",
              "      <td>NARS illuminator orgasm</td>\n",
              "      <td>3</td>\n",
              "      <td>Beauty/Makeup/Face</td>\n",
              "      <td>Nars</td>\n",
              "      <td>8.0</td>\n",
              "      <td>0</td>\n",
              "      <td>Still more than half left in this! Color is or...</td>\n",
              "    </tr>\n",
              "    <tr>\n",
              "      <th>1482524</th>\n",
              "      <td>1482524</td>\n",
              "      <td>Penn State Jogger Sweatpants</td>\n",
              "      <td>2</td>\n",
              "      <td>Women/Athletic Apparel/Tracksuits &amp; Sweats</td>\n",
              "      <td>Nike</td>\n",
              "      <td>26.0</td>\n",
              "      <td>0</td>\n",
              "      <td>▪️NWOT ▪️Perfect Condition ▪️Barely been worn ...</td>\n",
              "    </tr>\n",
              "    <tr>\n",
              "      <th>1482525</th>\n",
              "      <td>1482525</td>\n",
              "      <td>Red Victoria's Secret bra w sequins</td>\n",
              "      <td>2</td>\n",
              "      <td>Women/Underwear/Bras</td>\n",
              "      <td>PINK</td>\n",
              "      <td>7.0</td>\n",
              "      <td>1</td>\n",
              "      <td>Removable straps to make strapless Size: 34 B ...</td>\n",
              "    </tr>\n",
              "    <tr>\n",
              "      <th>1482526</th>\n",
              "      <td>1482526</td>\n",
              "      <td>Harry Potter Shirt! Women M/ Girl XL</td>\n",
              "      <td>2</td>\n",
              "      <td>Women/Tops &amp; Blouses/T-Shirts</td>\n",
              "      <td>NaN</td>\n",
              "      <td>12.0</td>\n",
              "      <td>0</td>\n",
              "      <td>Great Harry Potter Shirt! \"Hogwarts, School of...</td>\n",
              "    </tr>\n",
              "    <tr>\n",
              "      <th>1482527</th>\n",
              "      <td>1482527</td>\n",
              "      <td>Blk/white ribbed mock neck bodysuit M</td>\n",
              "      <td>1</td>\n",
              "      <td>Women/Tops &amp; Blouses/Blouse</td>\n",
              "      <td>NaN</td>\n",
              "      <td>10.0</td>\n",
              "      <td>1</td>\n",
              "      <td>Brand new black and white ribbed mock neck bod...</td>\n",
              "    </tr>\n",
              "    <tr>\n",
              "      <th>1482528</th>\n",
              "      <td>1482528</td>\n",
              "      <td>Victoria's Secret Tankini Sz. Large</td>\n",
              "      <td>2</td>\n",
              "      <td>Women/Athletic Apparel/Sports Bras</td>\n",
              "      <td>Victoria's Secret</td>\n",
              "      <td>18.0</td>\n",
              "      <td>1</td>\n",
              "      <td>Purple and Paisley Victoria's Secret Tankini S...</td>\n",
              "    </tr>\n",
              "    <tr>\n",
              "      <th>1482529</th>\n",
              "      <td>1482529</td>\n",
              "      <td>Men's UA [rm]</td>\n",
              "      <td>2</td>\n",
              "      <td>Men/Athletic Apparel/Shirts &amp; Tops</td>\n",
              "      <td>Under Armour</td>\n",
              "      <td>34.0</td>\n",
              "      <td>0</td>\n",
              "      <td>[rm] for the set both in perfect condition no ...</td>\n",
              "    </tr>\n",
              "    <tr>\n",
              "      <th>1482530</th>\n",
              "      <td>1482530</td>\n",
              "      <td>Free People Inspired Dress</td>\n",
              "      <td>2</td>\n",
              "      <td>Women/Dresses/Mid-Calf</td>\n",
              "      <td>Free People</td>\n",
              "      <td>20.0</td>\n",
              "      <td>1</td>\n",
              "      <td>Lace, says size small but fits medium perfectl...</td>\n",
              "    </tr>\n",
              "    <tr>\n",
              "      <th>1482531</th>\n",
              "      <td>1482531</td>\n",
              "      <td>Little mermaid handmade dress</td>\n",
              "      <td>2</td>\n",
              "      <td>Kids/Girls 2T-5T/Dresses</td>\n",
              "      <td>Disney</td>\n",
              "      <td>14.0</td>\n",
              "      <td>0</td>\n",
              "      <td>Little mermaid handmade dress never worn size 2t</td>\n",
              "    </tr>\n",
              "    <tr>\n",
              "      <th>1482532</th>\n",
              "      <td>1482532</td>\n",
              "      <td>21 day fix containers and eating plan</td>\n",
              "      <td>2</td>\n",
              "      <td>Sports &amp; Outdoors/Exercise/Fitness accessories</td>\n",
              "      <td>NaN</td>\n",
              "      <td>12.0</td>\n",
              "      <td>0</td>\n",
              "      <td>Used once or twice, still in great shape.</td>\n",
              "    </tr>\n",
              "    <tr>\n",
              "      <th>1482533</th>\n",
              "      <td>1482533</td>\n",
              "      <td>World markets lanterns</td>\n",
              "      <td>3</td>\n",
              "      <td>Home/Home Décor/Home Décor Accents</td>\n",
              "      <td>NaN</td>\n",
              "      <td>45.0</td>\n",
              "      <td>1</td>\n",
              "      <td>There is 2 of each one that you see! So 2 red ...</td>\n",
              "    </tr>\n",
              "    <tr>\n",
              "      <th>1482534</th>\n",
              "      <td>1482534</td>\n",
              "      <td>Brand new lux de ville wallet</td>\n",
              "      <td>1</td>\n",
              "      <td>Women/Women's Accessories/Wallets</td>\n",
              "      <td>NaN</td>\n",
              "      <td>22.0</td>\n",
              "      <td>0</td>\n",
              "      <td>New with tag, red with sparkle. Firm price, no...</td>\n",
              "    </tr>\n",
              "  </tbody>\n",
              "</table>\n",
              "<p>1482535 rows × 8 columns</p>\n",
              "</div>"
            ],
            "text/plain": [
              "         train_id                                     name  item_condition_id  \\\n",
              "0               0      MLB Cincinnati Reds T Shirt Size XL                  3   \n",
              "1               1         Razer BlackWidow Chroma Keyboard                  3   \n",
              "2               2                           AVA-VIV Blouse                  1   \n",
              "3               3                    Leather Horse Statues                  1   \n",
              "4               4                     24K GOLD plated rose                  1   \n",
              "5               5         Bundled items requested for Ruie                  3   \n",
              "6               6       Acacia pacific tides santorini top                  3   \n",
              "7               7     Girls cheer and tumbling bundle of 7                  3   \n",
              "8               8                    Girls Nike Pro shorts                  3   \n",
              "9               9   Porcelain clown doll checker pants VTG                  3   \n",
              "10             10                          Smashbox primer                  2   \n",
              "11             11                   New vs pi k body mists                  1   \n",
              "12             12                       Black Skater dress                  2   \n",
              "13             13                     Sharpener and eraser                  1   \n",
              "14             14       HOLD for Dogs2016 Minnetonka boots                  3   \n",
              "15             15              Sephora tarte birthday gift                  1   \n",
              "16             16                        Glitter Eyeshadow                  1   \n",
              "17             17      New: Baby K'tan active baby carrier                  1   \n",
              "18             18      Too Faced Limited \"Merry Macaroons\"                  1   \n",
              "19             19           Cream/ Beige Front Cross Shirt                  2   \n",
              "20             20          Torrid Nautical Peplum Tube Top                  3   \n",
              "21             21         NWT VS ULTIMATE SPORTS BRA 34ddd                  1   \n",
              "22             22           Galaxy S7 Edge (Unlocked) 32GB                  3   \n",
              "23             23                       Triple car charger                  1   \n",
              "24             24               Black and Red Baseball Tee                  2   \n",
              "25             25                    Air Jordan carmine 6s                  3   \n",
              "26             26  Otterbox Defender iPhone 6 Plus/6s Plus                  1   \n",
              "27             27   LuLaRoe OS Black With White Polka Dots                  3   \n",
              "28             28        Forever21 floral romper strapless                  2   \n",
              "29             29                            Kendra bundle                  3   \n",
              "...           ...                                      ...                ...   \n",
              "1482505   1482505                   NorthFace rain jacket!                  3   \n",
              "1482506   1482506               KitchenAid 4.5 quart mixer                  1   \n",
              "1482507   1482507             Grand Theft Auto V: XBOX ONE                  3   \n",
              "1482508   1482508                Victoria secret black bag                  1   \n",
              "1482509   1482509                          Fitbit Charge 2                  3   \n",
              "1482510   1482510      2×Popsockets for all phone & Tablet                  1   \n",
              "1482511   1482511         Bebe Beauty Gloss Icon Lip Gloss                  1   \n",
              "1482512   1482512                                Lululemon                  2   \n",
              "1482513   1482513        Yugioh Ultra Rare B. Skull Dragon                  3   \n",
              "1482514   1482514                     Anthropologie Purse!                  3   \n",
              "1482515   1482515                      Pink Yankees hoodie                  3   \n",
              "1482516   1482516     New Bath & Body Works Scented Candle                  1   \n",
              "1482517   1482517              34D VS PINK red push up bra                  3   \n",
              "1482518   1482518     Brooches: lot of 5 assorted (1 Coro)                  3   \n",
              "1482519   1482519             SALE! FreeShip VS Logo Thong                  1   \n",
              "1482520   1482520                         Bundle for BeSpa                  3   \n",
              "1482521   1482521       Tarte Amazonian clay 12 hour blush                  1   \n",
              "1482522   1482522              LG K7/Tribute 5 Hybrid Case                  1   \n",
              "1482523   1482523                  NARS illuminator orgasm                  3   \n",
              "1482524   1482524             Penn State Jogger Sweatpants                  2   \n",
              "1482525   1482525      Red Victoria's Secret bra w sequins                  2   \n",
              "1482526   1482526     Harry Potter Shirt! Women M/ Girl XL                  2   \n",
              "1482527   1482527    Blk/white ribbed mock neck bodysuit M                  1   \n",
              "1482528   1482528      Victoria's Secret Tankini Sz. Large                  2   \n",
              "1482529   1482529                            Men's UA [rm]                  2   \n",
              "1482530   1482530               Free People Inspired Dress                  2   \n",
              "1482531   1482531            Little mermaid handmade dress                  2   \n",
              "1482532   1482532    21 day fix containers and eating plan                  2   \n",
              "1482533   1482533                   World markets lanterns                  3   \n",
              "1482534   1482534            Brand new lux de ville wallet                  1   \n",
              "\n",
              "                                             category_name         brand_name  \\\n",
              "0                                        Men/Tops/T-shirts                NaN   \n",
              "1        Electronics/Computers & Tablets/Components & P...              Razer   \n",
              "2                              Women/Tops & Blouses/Blouse             Target   \n",
              "3                       Home/Home Décor/Home Décor Accents                NaN   \n",
              "4                                  Women/Jewelry/Necklaces                NaN   \n",
              "5                                        Women/Other/Other                NaN   \n",
              "6                                 Women/Swimwear/Two-Piece    Acacia Swimwear   \n",
              "7                          Sports & Outdoors/Apparel/Girls              Soffe   \n",
              "8                          Sports & Outdoors/Apparel/Girls               Nike   \n",
              "9                 Vintage & Collectibles/Collectibles/Doll                NaN   \n",
              "10                                      Beauty/Makeup/Face           Smashbox   \n",
              "11                                  Beauty/Fragrance/Women  Victoria's Secret   \n",
              "12                          Women/Dresses/Above Knee, Mini                rue   \n",
              "13                   Other/Office supplies/School Supplies         Scholastic   \n",
              "14                                       Women/Shoes/Boots      UGG Australia   \n",
              "15                               Beauty/Makeup/Makeup Sets              Tarte   \n",
              "16                                      Beauty/Makeup/Eyes         Wet n Wild   \n",
              "17                          Kids/Gear/Backpacks & Carriers                NaN   \n",
              "18                           Beauty/Makeup/Makeup Palettes          Too Faced   \n",
              "19                             Women/Tops & Blouses/Blouse      Anthropologie   \n",
              "20                         Women/Tops & Blouses/Tank, Cami             Torrid   \n",
              "21                      Women/Athletic Apparel/Sports Bras  Victoria's Secret   \n",
              "22       Electronics/Cell Phones & Accessories/Cell Pho...            Samsung   \n",
              "23       Electronics/Cell Phones & Accessories/Chargers...                NaN   \n",
              "24                           Women/Tops & Blouses/T-Shirts         FOREVER 21   \n",
              "25                                      Men/Shoes/Athletic         Air Jordan   \n",
              "26       Electronics/Cell Phones & Accessories/Cases, C...              Apple   \n",
              "27          Women/Athletic Apparel/Pants, Tights, Leggings            LuLaRoe   \n",
              "28                                Women/Swimwear/One-Piece         FOREVER 21   \n",
              "29                                    Women/Jeans/Boot Cut          Hollister   \n",
              "...                                                    ...                ...   \n",
              "1482505                     Women/Coats & Jackets/Raincoat     The North Face   \n",
              "1482506            Home/Home Appliances/Kitchen Appliances         KitchenAid   \n",
              "1482507           Electronics/Video Games & Consoles/Games                NaN   \n",
              "1482508                Women/Women's Handbags/Shoulder Bag  Victoria's Secret   \n",
              "1482509     Sports & Outdoors/Exercise/Fitness accessories                NaN   \n",
              "1482510  Electronics/Cell Phones & Accessories/Cell Pho...                NaN   \n",
              "1482511                                 Beauty/Makeup/Lips                NaN   \n",
              "1482512               Women/Athletic Apparel/Shirts & Tops          Lululemon   \n",
              "1482513     Vintage & Collectibles/Trading Cards/Animation             Konami   \n",
              "1482514                     Handmade/Bags and Purses/Purse                NaN   \n",
              "1482515                              Women/Sweaters/Hooded               PINK   \n",
              "1482516                  Home/Home Décor/Candles & Holders  Bath & Body Works   \n",
              "1482517                               Women/Underwear/Bras               PINK   \n",
              "1482518              Vintage & Collectibles/Jewelry/Brooch                NaN   \n",
              "1482519                            Women/Underwear/Panties               PINK   \n",
              "1482520                      Kids/Boys 0-24 Mos/One-Pieces                Gap   \n",
              "1482521                                 Beauty/Makeup/Face              Tarte   \n",
              "1482522  Electronics/Cell Phones & Accessories/Cases, C...                NaN   \n",
              "1482523                                 Beauty/Makeup/Face               Nars   \n",
              "1482524         Women/Athletic Apparel/Tracksuits & Sweats               Nike   \n",
              "1482525                               Women/Underwear/Bras               PINK   \n",
              "1482526                      Women/Tops & Blouses/T-Shirts                NaN   \n",
              "1482527                        Women/Tops & Blouses/Blouse                NaN   \n",
              "1482528                 Women/Athletic Apparel/Sports Bras  Victoria's Secret   \n",
              "1482529                 Men/Athletic Apparel/Shirts & Tops       Under Armour   \n",
              "1482530                             Women/Dresses/Mid-Calf        Free People   \n",
              "1482531                           Kids/Girls 2T-5T/Dresses             Disney   \n",
              "1482532     Sports & Outdoors/Exercise/Fitness accessories                NaN   \n",
              "1482533                 Home/Home Décor/Home Décor Accents                NaN   \n",
              "1482534                  Women/Women's Accessories/Wallets                NaN   \n",
              "\n",
              "         price  shipping                                   item_description  \n",
              "0         10.0         1                                 No description yet  \n",
              "1         52.0         0  This keyboard is in great condition and works ...  \n",
              "2         10.0         1  Adorable top with a hint of lace and a key hol...  \n",
              "3         35.0         1  New with tags. Leather horses. Retail for [rm]...  \n",
              "4         44.0         0          Complete with certificate of authenticity  \n",
              "5         59.0         0  Banana republic bottoms, Candies skirt with ma...  \n",
              "6         64.0         0  Size small but straps slightly shortened to fi...  \n",
              "7          6.0         1  You get three pairs of Sophie cheer shorts siz...  \n",
              "8         19.0         0   Girls Size small Plus green. Three shorts total.  \n",
              "9          8.0         0  I realized his pants are on backwards after th...  \n",
              "10         8.0         1       0.25 oz Full size is 1oz for [rm] in Sephora  \n",
              "11        34.0         0  (5) new vs pink body mists (2.5 oz each) Fresh...  \n",
              "12        16.0         0                                Xl, great condition  \n",
              "13         4.0         1                                 No description yet  \n",
              "14        43.0         0  Authentic. Suede fringe boots. Great condition...  \n",
              "15        11.0         1  Brand new. Deluxe travel size products. Contai...  \n",
              "16         6.0         1  2 glitter eyeshadows; one in Brass and one in ...  \n",
              "17        29.0         1  Brand new in box Size: Medium Color: Coral Ret...  \n",
              "18        25.0         1  This AUTHENTIC pallete by Too Faced is brand n...  \n",
              "19        27.0         0  Fancy, dressy or casual! Dress it up or down 1...  \n",
              "20        13.0         1             Size 1. Worn once. Excellent condition  \n",
              "21        20.0         0  NWT Victoria's Secret ULTIMATE SPORT BRA -MAXI...  \n",
              "22       386.0         0  Reasonable offers welcomed. But if you ask \"lo...  \n",
              "23         8.0         1  Brand new never used All colors are available ...  \n",
              "24        10.0         0  lanascloset ~~~ description: never worn! ✨ i d...  \n",
              "25        66.0         0  They are 100 percent authentic. They are beate...  \n",
              "26        13.0         1  Brand new Otterbox Defender iPhone 6 Plus/6s Plus  \n",
              "27        24.0         0                 Worn one time. Excellent condition  \n",
              "28         5.0         1  Beautiful Excellent condition Zips and ties in...  \n",
              "29        16.0         1  29w. X 33l. Social stretch hollister jeans ***...  \n",
              "...        ...       ...                                                ...  \n",
              "1482505   34.0         0  great condition! a few signs of wear on the in...  \n",
              "1482506  165.0         0  Brand new sealed in box kitchen aid kitchenaid...  \n",
              "1482507   24.0         0          Just the game and the case. Lightly used.  \n",
              "1482508   21.0         0                                      New with tags  \n",
              "1482509   95.0         1  Fit bit charge 2, comes with box, charger pack...  \n",
              "1482510    9.0         1  Popsockets for all phone & Tablet Add 1 clip m...  \n",
              "1482511    5.0         1  Brand: Bebe Beauty lip gloss, in color Icon. B...  \n",
              "1482512   34.0         0                               NWOT - Blue - size 8  \n",
              "1482513    5.0         1  Yu-Gi-Oh Ultra Rare Single Card in NM conditio...  \n",
              "1482514   23.0         0  Leather Navy and creme polka dot With brown ac...  \n",
              "1482515   20.0         1                                        Size medium  \n",
              "1482516   15.0         0  Bath & Body Works Scented Candle Vanilla Bloss...  \n",
              "1482517   11.0         0  To see all of the bras I have listed key in JB...  \n",
              "1482518   10.0         1          3 appear to be VTG. The pink one is Coro.  \n",
              "1482519    9.0         1  Brand new with tags, Victoria Secret logo thon...  \n",
              "1482520   18.0         1  Bundle of Baby Gap's First Favorites 3-6 month...  \n",
              "1482521    9.0         1                             Brand new, never used.  \n",
              "1482522    8.0         1  Perfect Design for LG Tribute 5 / LG K7, NOT f...  \n",
              "1482523    8.0         0  Still more than half left in this! Color is or...  \n",
              "1482524   26.0         0  ▪️NWOT ▪️Perfect Condition ▪️Barely been worn ...  \n",
              "1482525    7.0         1  Removable straps to make strapless Size: 34 B ...  \n",
              "1482526   12.0         0  Great Harry Potter Shirt! \"Hogwarts, School of...  \n",
              "1482527   10.0         1  Brand new black and white ribbed mock neck bod...  \n",
              "1482528   18.0         1  Purple and Paisley Victoria's Secret Tankini S...  \n",
              "1482529   34.0         0  [rm] for the set both in perfect condition no ...  \n",
              "1482530   20.0         1  Lace, says size small but fits medium perfectl...  \n",
              "1482531   14.0         0   Little mermaid handmade dress never worn size 2t  \n",
              "1482532   12.0         0          Used once or twice, still in great shape.  \n",
              "1482533   45.0         1  There is 2 of each one that you see! So 2 red ...  \n",
              "1482534   22.0         0  New with tag, red with sparkle. Firm price, no...  \n",
              "\n",
              "[1482535 rows x 8 columns]"
            ]
          },
          "metadata": {
            "tags": []
          },
          "execution_count": 3
        }
      ]
    },
    {
      "metadata": {
        "id": "lx5HKKbmJWQ0",
        "colab_type": "code",
        "outputId": "0f4f3424-ec1b-4606-c0db-469f357bd6fe",
        "colab": {}
      },
      "cell_type": "code",
      "source": [
        "train.shape"
      ],
      "execution_count": 0,
      "outputs": [
        {
          "output_type": "execute_result",
          "data": {
            "text/plain": [
              "(1482535, 8)"
            ]
          },
          "metadata": {
            "tags": []
          },
          "execution_count": 4
        }
      ]
    },
    {
      "metadata": {
        "id": "2DcvmRGMJWQ5",
        "colab_type": "code",
        "outputId": "c0c72d79-19d8-4ec3-ce6d-791c853738f8",
        "colab": {}
      },
      "cell_type": "code",
      "source": [
        "test.shape"
      ],
      "execution_count": 0,
      "outputs": [
        {
          "output_type": "execute_result",
          "data": {
            "text/plain": [
              "(693359, 7)"
            ]
          },
          "metadata": {
            "tags": []
          },
          "execution_count": 5
        }
      ]
    },
    {
      "metadata": {
        "id": "sl6G795bJWQ9",
        "colab_type": "code",
        "colab": {}
      },
      "cell_type": "code",
      "source": [
        "c=0\n",
        "for i in train['train_id']:\n",
        "    if i==i+1:\n",
        "        c=c+1\n",
        "    if(c!=0):\n",
        "        print(i,c)\n",
        "        "
      ],
      "execution_count": 0,
      "outputs": []
    },
    {
      "metadata": {
        "id": "o5-31-LBJWRB",
        "colab_type": "code",
        "outputId": "5923784d-c532-4544-a72c-3f4bef1d3609",
        "colab": {}
      },
      "cell_type": "code",
      "source": [
        "train.dtypes"
      ],
      "execution_count": 0,
      "outputs": [
        {
          "output_type": "execute_result",
          "data": {
            "text/plain": [
              "train_id               int64\n",
              "name                  object\n",
              "item_condition_id      int64\n",
              "category_name         object\n",
              "brand_name            object\n",
              "price                float64\n",
              "shipping               int64\n",
              "item_description      object\n",
              "dtype: object"
            ]
          },
          "metadata": {
            "tags": []
          },
          "execution_count": 7
        }
      ]
    },
    {
      "metadata": {
        "id": "Bor0yCEDJWRF",
        "colab_type": "code",
        "outputId": "2c04b4d8-146e-47b9-8ce5-52fdebd27418",
        "colab": {}
      },
      "cell_type": "code",
      "source": [
        "train.describe()"
      ],
      "execution_count": 0,
      "outputs": [
        {
          "output_type": "execute_result",
          "data": {
            "text/html": [
              "<div>\n",
              "<style scoped>\n",
              "    .dataframe tbody tr th:only-of-type {\n",
              "        vertical-align: middle;\n",
              "    }\n",
              "\n",
              "    .dataframe tbody tr th {\n",
              "        vertical-align: top;\n",
              "    }\n",
              "\n",
              "    .dataframe thead th {\n",
              "        text-align: right;\n",
              "    }\n",
              "</style>\n",
              "<table border=\"1\" class=\"dataframe\">\n",
              "  <thead>\n",
              "    <tr style=\"text-align: right;\">\n",
              "      <th></th>\n",
              "      <th>train_id</th>\n",
              "      <th>item_condition_id</th>\n",
              "      <th>price</th>\n",
              "      <th>shipping</th>\n",
              "    </tr>\n",
              "  </thead>\n",
              "  <tbody>\n",
              "    <tr>\n",
              "      <th>count</th>\n",
              "      <td>1.482535e+06</td>\n",
              "      <td>1.482535e+06</td>\n",
              "      <td>1.482535e+06</td>\n",
              "      <td>1.482535e+06</td>\n",
              "    </tr>\n",
              "    <tr>\n",
              "      <th>mean</th>\n",
              "      <td>7.412670e+05</td>\n",
              "      <td>1.907380e+00</td>\n",
              "      <td>2.673752e+01</td>\n",
              "      <td>4.472744e-01</td>\n",
              "    </tr>\n",
              "    <tr>\n",
              "      <th>std</th>\n",
              "      <td>4.279711e+05</td>\n",
              "      <td>9.031586e-01</td>\n",
              "      <td>3.858607e+01</td>\n",
              "      <td>4.972124e-01</td>\n",
              "    </tr>\n",
              "    <tr>\n",
              "      <th>min</th>\n",
              "      <td>0.000000e+00</td>\n",
              "      <td>1.000000e+00</td>\n",
              "      <td>0.000000e+00</td>\n",
              "      <td>0.000000e+00</td>\n",
              "    </tr>\n",
              "    <tr>\n",
              "      <th>25%</th>\n",
              "      <td>3.706335e+05</td>\n",
              "      <td>1.000000e+00</td>\n",
              "      <td>1.000000e+01</td>\n",
              "      <td>0.000000e+00</td>\n",
              "    </tr>\n",
              "    <tr>\n",
              "      <th>50%</th>\n",
              "      <td>7.412670e+05</td>\n",
              "      <td>2.000000e+00</td>\n",
              "      <td>1.700000e+01</td>\n",
              "      <td>0.000000e+00</td>\n",
              "    </tr>\n",
              "    <tr>\n",
              "      <th>75%</th>\n",
              "      <td>1.111900e+06</td>\n",
              "      <td>3.000000e+00</td>\n",
              "      <td>2.900000e+01</td>\n",
              "      <td>1.000000e+00</td>\n",
              "    </tr>\n",
              "    <tr>\n",
              "      <th>max</th>\n",
              "      <td>1.482534e+06</td>\n",
              "      <td>5.000000e+00</td>\n",
              "      <td>2.009000e+03</td>\n",
              "      <td>1.000000e+00</td>\n",
              "    </tr>\n",
              "  </tbody>\n",
              "</table>\n",
              "</div>"
            ],
            "text/plain": [
              "           train_id  item_condition_id         price      shipping\n",
              "count  1.482535e+06       1.482535e+06  1.482535e+06  1.482535e+06\n",
              "mean   7.412670e+05       1.907380e+00  2.673752e+01  4.472744e-01\n",
              "std    4.279711e+05       9.031586e-01  3.858607e+01  4.972124e-01\n",
              "min    0.000000e+00       1.000000e+00  0.000000e+00  0.000000e+00\n",
              "25%    3.706335e+05       1.000000e+00  1.000000e+01  0.000000e+00\n",
              "50%    7.412670e+05       2.000000e+00  1.700000e+01  0.000000e+00\n",
              "75%    1.111900e+06       3.000000e+00  2.900000e+01  1.000000e+00\n",
              "max    1.482534e+06       5.000000e+00  2.009000e+03  1.000000e+00"
            ]
          },
          "metadata": {
            "tags": []
          },
          "execution_count": 8
        }
      ]
    },
    {
      "metadata": {
        "id": "AQCM1kIjJWRL",
        "colab_type": "code",
        "outputId": "1f4387da-e248-47d2-b566-79f92f5a4018",
        "colab": {}
      },
      "cell_type": "code",
      "source": [
        "train.isna().any()"
      ],
      "execution_count": 0,
      "outputs": [
        {
          "output_type": "execute_result",
          "data": {
            "text/plain": [
              "train_id             False\n",
              "name                 False\n",
              "item_condition_id    False\n",
              "category_name         True\n",
              "brand_name            True\n",
              "price                False\n",
              "shipping             False\n",
              "item_description      True\n",
              "dtype: bool"
            ]
          },
          "metadata": {
            "tags": []
          },
          "execution_count": 9
        }
      ]
    },
    {
      "metadata": {
        "id": "puKvNhBHJWRQ",
        "colab_type": "code",
        "outputId": "29a8a5e2-aa74-42b9-c69f-7d8a15f0be1e",
        "colab": {}
      },
      "cell_type": "code",
      "source": [
        "print(\"Number of missing values in category name: \",train['category_name'].isna().sum())\n",
        "print(\"Number of missing values in brand name: \",train['brand_name'].isna().sum())\n",
        "print(\"Number of missing values in item description: \",train['item_description'].isna().sum())\n"
      ],
      "execution_count": 0,
      "outputs": [
        {
          "output_type": "stream",
          "text": [
            "Number of missing values in category name:  6327\n",
            "Number of missing values in brand name:  632682\n",
            "Number of missing values in item description:  4\n"
          ],
          "name": "stdout"
        }
      ]
    },
    {
      "metadata": {
        "id": "ALx2GK35JWRU",
        "colab_type": "code",
        "outputId": "cce072b6-8fd4-4847-def4-1bc6c0607359",
        "colab": {}
      },
      "cell_type": "code",
      "source": [
        "print(\"Percentage of Missing values\")\n",
        "print(\"category_name:\",train['category_name'].isna().sum()*100/len(train['category_name']))\n",
        "print(\"brand_name:\",train['brand_name'].isna().sum()*100/len(train['brand_name']))\n",
        "print(\"item_description:\",train['item_description'].isna().sum()*100/len(train['item_description']))"
      ],
      "execution_count": 0,
      "outputs": [
        {
          "output_type": "stream",
          "text": [
            "Percentage of Missing values\n",
            "category_name: 0.42676901388500105\n",
            "brand_name: 42.67568725190299\n",
            "item_description: 0.00026980813269163965\n"
          ],
          "name": "stdout"
        }
      ]
    },
    {
      "metadata": {
        "id": "8BOwpBOkJWRZ",
        "colab_type": "text"
      },
      "cell_type": "markdown",
      "source": [
        "### PRICE"
      ]
    },
    {
      "metadata": {
        "id": "RJJfwkN4JWRa",
        "colab_type": "code",
        "outputId": "5c02ec04-f79f-4f71-b482-cd0d0effa2d2",
        "colab": {}
      },
      "cell_type": "code",
      "source": [
        "train['price'].describe()"
      ],
      "execution_count": 0,
      "outputs": [
        {
          "output_type": "execute_result",
          "data": {
            "text/plain": [
              "count    1.482535e+06\n",
              "mean     2.673752e+01\n",
              "std      3.858607e+01\n",
              "min      0.000000e+00\n",
              "25%      1.000000e+01\n",
              "50%      1.700000e+01\n",
              "75%      2.900000e+01\n",
              "max      2.009000e+03\n",
              "Name: price, dtype: float64"
            ]
          },
          "metadata": {
            "tags": []
          },
          "execution_count": 12
        }
      ]
    },
    {
      "metadata": {
        "id": "ykedIylHJWRe",
        "colab_type": "code",
        "outputId": "354228a1-a31e-4fa4-e91d-3eccaf358432",
        "colab": {}
      },
      "cell_type": "code",
      "source": [
        "sns.FacetGrid(train, size=5) \\\n",
        "   .map(sns.distplot, \"price\",hist=False) \\\n",
        "   .add_legend()\n",
        "plt.show()"
      ],
      "execution_count": 0,
      "outputs": [
        {
          "output_type": "display_data",
          "data": {
            "image/png": "[encoded data removed]",
            "text/plain": [
              "<matplotlib.figure.Figure at 0xaeeceb0>"
            ]
          },
          "metadata": {
            "tags": []
          }
        }
      ]
    },
    {
      "metadata": {
        "id": "FBb-pA3QJWRm",
        "colab_type": "code",
        "outputId": "61db4513-85a3-48a7-b049-7be98a5cd682",
        "colab": {}
      },
      "cell_type": "code",
      "source": [
        "plt.subplot(1, 2, 1)\n",
        "(train['price']).plot.hist(bins=70,figsize=(10,5), edgecolor='white',range=[0,250])\n",
        "plt.xlabel('price', fontsize=17)\n",
        "plt.ylabel('frequency', fontsize=17)\n",
        "plt.tick_params(labelsize=15)\n",
        "plt.title('Price Distribution - Training Set', fontsize=17)"
      ],
      "execution_count": 0,
      "outputs": [
        {
          "output_type": "execute_result",
          "data": {
            "text/plain": [
              "Text(0.5,1,'Price Distribution - Training Set')"
            ]
          },
          "metadata": {
            "tags": []
          },
          "execution_count": 14
        },
        {
          "output_type": "display_data",
          "data": {
            "image/png": "[encoded data removed]",
            "text/plain": [
              "<matplotlib.figure.Figure at 0xaf1f690>"
            ]
          },
          "metadata": {
            "tags": []
          }
        }
      ]
    },
    {
      "metadata": {
        "id": "V0z6ubAjJWRs",
        "colab_type": "text"
      },
      "cell_type": "markdown",
      "source": [
        "### BRAND NAME"
      ]
    },
    {
      "metadata": {
        "id": "cxx4gnpmJWRs",
        "colab_type": "code",
        "outputId": "711097d5-00a6-433b-8d24-d83edf3a70ca",
        "colab": {}
      },
      "cell_type": "code",
      "source": [
        "len(train['brand_name'].unique())"
      ],
      "execution_count": 0,
      "outputs": [
        {
          "output_type": "execute_result",
          "data": {
            "text/plain": [
              "4810"
            ]
          },
          "metadata": {
            "tags": []
          },
          "execution_count": 15
        }
      ]
    },
    {
      "metadata": {
        "id": "HaYNU1lgJWRy",
        "colab_type": "code",
        "outputId": "4b62a4a4-d266-46e1-88eb-e19c3bf30071",
        "colab": {}
      },
      "cell_type": "code",
      "source": [
        "train.brand_name.describe()"
      ],
      "execution_count": 0,
      "outputs": [
        {
          "output_type": "execute_result",
          "data": {
            "text/plain": [
              "count     849853\n",
              "unique      4809\n",
              "top         PINK\n",
              "freq       54088\n",
              "Name: brand_name, dtype: object"
            ]
          },
          "metadata": {
            "tags": []
          },
          "execution_count": 16
        }
      ]
    },
    {
      "metadata": {
        "id": "cwVwKzNlJWR3",
        "colab_type": "code",
        "outputId": "055d8052-9e9b-4da2-d998-2a4e139c9c0e",
        "colab": {}
      },
      "cell_type": "code",
      "source": [
        "a=train['brand_name'].value_counts()[:15]\n",
        "a.plot(kind=\"bar\")"
      ],
      "execution_count": 0,
      "outputs": [
        {
          "output_type": "execute_result",
          "data": {
            "text/plain": [
              "<matplotlib.axes._subplots.AxesSubplot at 0xaf53fb0>"
            ]
          },
          "metadata": {
            "tags": []
          },
          "execution_count": 17
        },
        {
          "output_type": "display_data",
          "data": {
            "image/png": "[encoded data removed]",
            "text/plain": [
              "<matplotlib.figure.Figure at 0xaeecb90>"
            ]
          },
          "metadata": {
            "tags": []
          }
        }
      ]
    },
    {
      "metadata": {
        "id": "-pVcwknAJWR8",
        "colab_type": "code",
        "colab": {}
      },
      "cell_type": "code",
      "source": [
        "train.brand_name=train.brand_name.fillna('missing')"
      ],
      "execution_count": 0,
      "outputs": []
    },
    {
      "metadata": {
        "id": "7ZnU3KXrJWR_",
        "colab_type": "code",
        "outputId": "d6406a60-e1de-418b-dc5e-f395cadfb3d7",
        "colab": {}
      },
      "cell_type": "code",
      "source": [
        "train['brand_name'].value_counts()[:5]"
      ],
      "execution_count": 0,
      "outputs": [
        {
          "output_type": "execute_result",
          "data": {
            "text/plain": [
              "missing              632682\n",
              "PINK                  54088\n",
              "Nike                  54043\n",
              "Victoria's Secret     48036\n",
              "LuLaRoe               31024\n",
              "Name: brand_name, dtype: int64"
            ]
          },
          "metadata": {
            "tags": []
          },
          "execution_count": 19
        }
      ]
    },
    {
      "metadata": {
        "id": "VZBG5-g3JWSC",
        "colab_type": "code",
        "colab": {}
      },
      "cell_type": "code",
      "source": [
        "brand_names=train.brand_name.unique()\n",
        "brandexpense=list()\n",
        "for name in brand_names:\n",
        "    if len(train[train['brand_name']==name] )>=50:\n",
        "                       brandexpense.append([name,train.price[train['brand_name']==name].median()])\n",
        "    \n",
        "brandexpense.sort(key=lambda x: x[1],reverse=True)\n",
        "brandexpense[:10]"
      ],
      "execution_count": 0,
      "outputs": []
    },
    {
      "metadata": {
        "id": "UZ2ppvovJWSG",
        "colab_type": "code",
        "outputId": "cfcb1b57-d493-4fdd-aca0-02cb671e98d5",
        "colab": {}
      },
      "cell_type": "code",
      "source": [
        "train['shipping'].value_counts()\n"
      ],
      "execution_count": 0,
      "outputs": [
        {
          "output_type": "execute_result",
          "data": {
            "text/plain": [
              "0    819435\n",
              "1    663100\n",
              "Name: shipping, dtype: int64"
            ]
          },
          "metadata": {
            "tags": []
          },
          "execution_count": 21
        }
      ]
    },
    {
      "metadata": {
        "id": "FCPj88vfJWSJ",
        "colab_type": "code",
        "outputId": "159447d3-c72a-48a5-f258-01850c8216d1",
        "colab": {}
      },
      "cell_type": "code",
      "source": [
        "\n",
        "print(\"If shipping =1, then , delivery charges are borne by the buyer\")\n",
        "print(\"If shipping =0 , then ,delivery charges are borne by the seller\")\n",
        "print(\"Percentage of shipping =1 : \", 663100*100/train.shape[0])\n",
        "print(\"Percentage of shipping =0 : \",819435*100/train.shape[0])"
      ],
      "execution_count": 0,
      "outputs": [
        {
          "output_type": "stream",
          "text": [
            "If shipping =1, then , delivery charges are borne by the buyer\n",
            "If shipping =0 , then ,delivery charges are borne by the seller\n",
            "Percentage of shipping =1 :  44.727443196956564\n",
            "Percentage of shipping =0 :  55.272556803043436\n"
          ],
          "name": "stdout"
        }
      ]
    },
    {
      "metadata": {
        "id": "ieZ6JqfSJWSO",
        "colab_type": "code",
        "outputId": "bd51dbe0-921a-4118-ae37-3d9358d778cb",
        "colab": {}
      },
      "cell_type": "code",
      "source": [
        "print('Mean price of items for which shipping fees is borne by seller is ',train.price[train['shipping']==0].mean())\n",
        "print('Mean price of items for which shipping fees is borne by buyer is ',train.price[train['shipping']==1].mean())"
      ],
      "execution_count": 0,
      "outputs": [
        {
          "output_type": "stream",
          "text": [
            "Mean price of items for which shipping fees is borne by seller is  30.111777627267568\n",
            "Mean price of items for which shipping fees is borne by buyer is  22.56772583320766\n"
          ],
          "name": "stdout"
        }
      ]
    },
    {
      "metadata": {
        "id": "29KQaki_JWST",
        "colab_type": "code",
        "outputId": "fa626dce-ca40-49fa-bfeb-02db53c197a9",
        "colab": {}
      },
      "cell_type": "code",
      "source": [
        "sel= train.loc[train.shipping==1, 'price']\n",
        "buy= train.loc[train.shipping==0, 'price']\n",
        "fig, ax = plt.subplots(figsize=(10,5))\n",
        "ax.hist(np.log(sel+1), alpha=1.0, bins=50,\n",
        "       label='Price when Seller bears Shipping Fee')\n",
        "ax.hist(np.log(buy+1), alpha=0.7, bins=50,\n",
        "       label='Price when Buyer bears Shipping fee')\n",
        "ax.set(title='Histogram Comparison', ylabel='% of Dataset in Bin')\n",
        "plt.xlabel('log(price+1)', fontsize=17)\n",
        "plt.ylabel('frequency', fontsize=17)\n",
        "plt.title('Price Distribution by Shipping Type', fontsize=17)\n",
        "plt.tick_params(labelsize=15)\n",
        "plt.show()\n"
      ],
      "execution_count": 0,
      "outputs": [
        {
          "output_type": "display_data",
          "data": {
            "image/png": "[encoded data removed]",
            "text/plain": [
              "<matplotlib.figure.Figure at 0xbab5f10>"
            ]
          },
          "metadata": {
            "tags": []
          }
        }
      ]
    },
    {
      "metadata": {
        "id": "NrvNIRfBJWSW",
        "colab_type": "code",
        "outputId": "7bd8b0b0-4ee4-4ba4-b4fc-f8e2c40a658b",
        "colab": {}
      },
      "cell_type": "code",
      "source": [
        "train.item_condition_id.describe()"
      ],
      "execution_count": 0,
      "outputs": [
        {
          "output_type": "execute_result",
          "data": {
            "text/plain": [
              "count    1.482535e+06\n",
              "mean     1.907380e+00\n",
              "std      9.031586e-01\n",
              "min      1.000000e+00\n",
              "25%      1.000000e+00\n",
              "50%      2.000000e+00\n",
              "75%      3.000000e+00\n",
              "max      5.000000e+00\n",
              "Name: item_condition_id, dtype: float64"
            ]
          },
          "metadata": {
            "tags": []
          },
          "execution_count": 25
        }
      ]
    },
    {
      "metadata": {
        "id": "U5XFyGfrJWSa",
        "colab_type": "code",
        "colab": {}
      },
      "cell_type": "code",
      "source": [
        "item_id=train['item_condition_id'].value_counts()"
      ],
      "execution_count": 0,
      "outputs": []
    },
    {
      "metadata": {
        "id": "rk3GM78QJWSc",
        "colab_type": "code",
        "outputId": "1d272638-ce2a-47b3-e584-f05cf44ba685",
        "colab": {}
      },
      "cell_type": "code",
      "source": [
        "train['item_condition_id'].value_counts()"
      ],
      "execution_count": 0,
      "outputs": [
        {
          "output_type": "execute_result",
          "data": {
            "text/plain": [
              "1    640549\n",
              "3    432161\n",
              "2    375479\n",
              "4     31962\n",
              "5      2384\n",
              "Name: item_condition_id, dtype: int64"
            ]
          },
          "metadata": {
            "tags": []
          },
          "execution_count": 27
        }
      ]
    },
    {
      "metadata": {
        "id": "ncxgHWmCJWSg",
        "colab_type": "code",
        "outputId": "470fe9cd-e818-4d38-c413-92fa13bb79f7",
        "colab": {}
      },
      "cell_type": "code",
      "source": [
        "item_id.plot(kind='bar')"
      ],
      "execution_count": 0,
      "outputs": [
        {
          "output_type": "execute_result",
          "data": {
            "text/plain": [
              "<matplotlib.axes._subplots.AxesSubplot at 0xbae7e50>"
            ]
          },
          "metadata": {
            "tags": []
          },
          "execution_count": 28
        },
        {
          "output_type": "display_data",
          "data": {
            "image/png": "[encoded data removed]",
            "text/plain": [
              "<matplotlib.figure.Figure at 0xbae7b30>"
            ]
          },
          "metadata": {
            "tags": []
          }
        }
      ]
    },
    {
      "metadata": {
        "id": "S_5mngjxJWSk",
        "colab_type": "code",
        "outputId": "738d5b96-4d9e-41fc-d284-1a5b8302df80",
        "colab": {}
      },
      "cell_type": "code",
      "source": [
        "sns.boxplot(x='item_condition_id',y=np.log(train.price+1), data=train)\n",
        "plt.show()"
      ],
      "execution_count": 0,
      "outputs": [
        {
          "output_type": "display_data",
          "data": {
            "image/png": "[encoded data removed]",
            "text/plain": [
              "<matplotlib.figure.Figure at 0xc7b33b0>"
            ]
          },
          "metadata": {
            "tags": []
          }
        }
      ]
    },
    {
      "metadata": {
        "id": "Gd4CibP6JWSo",
        "colab_type": "code",
        "outputId": "bed6533d-f3f8-4a08-c5d1-a28f666bac46",
        "colab": {}
      },
      "cell_type": "code",
      "source": [
        "len(train.category_name.unique())"
      ],
      "execution_count": 0,
      "outputs": [
        {
          "output_type": "execute_result",
          "data": {
            "text/plain": [
              "1288"
            ]
          },
          "metadata": {
            "tags": []
          },
          "execution_count": 30
        }
      ]
    },
    {
      "metadata": {
        "id": "05hTqT2lJWSu",
        "colab_type": "code",
        "outputId": "f1527bec-7a67-41b2-8664-e06c9e02b93b",
        "colab": {}
      },
      "cell_type": "code",
      "source": [
        "train.category_name.isna().sum()"
      ],
      "execution_count": 0,
      "outputs": [
        {
          "output_type": "execute_result",
          "data": {
            "text/plain": [
              "6327"
            ]
          },
          "metadata": {
            "tags": []
          },
          "execution_count": 31
        }
      ]
    },
    {
      "metadata": {
        "id": "LY5fkmRNJWSy",
        "colab_type": "code",
        "outputId": "2e4a7a78-3499-40b9-9b61-bc5214a4d9a6",
        "colab": {}
      },
      "cell_type": "code",
      "source": [
        "print(\"Percentage of Missing values: \",6327*100/train.shape[0])"
      ],
      "execution_count": 0,
      "outputs": [
        {
          "output_type": "stream",
          "text": [
            "Percentage of Missing values:  0.42676901388500105\n"
          ],
          "name": "stdout"
        }
      ]
    },
    {
      "metadata": {
        "id": "tYrY_C23JWS1",
        "colab_type": "code",
        "outputId": "69724329-4256-49c2-9206-fce5d17110d5",
        "colab": {}
      },
      "cell_type": "code",
      "source": [
        "train.category_name.describe()"
      ],
      "execution_count": 0,
      "outputs": [
        {
          "output_type": "execute_result",
          "data": {
            "text/plain": [
              "count                                            1476208\n",
              "unique                                              1287\n",
              "top       Women/Athletic Apparel/Pants, Tights, Leggings\n",
              "freq                                               60177\n",
              "Name: category_name, dtype: object"
            ]
          },
          "metadata": {
            "tags": []
          },
          "execution_count": 33
        }
      ]
    },
    {
      "metadata": {
        "id": "75swUrwAJWS4",
        "colab_type": "code",
        "outputId": "9c57a26d-fdf2-4873-b167-dcd190f19003",
        "colab": {}
      },
      "cell_type": "code",
      "source": [
        "train.category_name.value_counts()[:20]"
      ],
      "execution_count": 0,
      "outputs": [
        {
          "output_type": "execute_result",
          "data": {
            "text/plain": [
              "Women/Athletic Apparel/Pants, Tights, Leggings                 60177\n",
              "Women/Tops & Blouses/T-Shirts                                  46380\n",
              "Beauty/Makeup/Face                                             34335\n",
              "Beauty/Makeup/Lips                                             29910\n",
              "Electronics/Video Games & Consoles/Games                       26557\n",
              "Beauty/Makeup/Eyes                                             25215\n",
              "Electronics/Cell Phones & Accessories/Cases, Covers & Skins    24676\n",
              "Women/Underwear/Bras                                           21274\n",
              "Women/Tops & Blouses/Blouse                                    20284\n",
              "Women/Tops & Blouses/Tank, Cami                                20284\n",
              "Women/Dresses/Above Knee, Mini                                 20082\n",
              "Women/Jewelry/Necklaces                                        19758\n",
              "Women/Athletic Apparel/Shorts                                  19528\n",
              "Beauty/Makeup/Makeup Palettes                                  19103\n",
              "Women/Shoes/Boots                                              18864\n",
              "Beauty/Fragrance/Women                                         18628\n",
              "Beauty/Skin Care/Face                                          15836\n",
              "Women/Women's Handbags/Shoulder Bag                            15328\n",
              "Men/Tops/T-shirts                                              15108\n",
              "Women/Dresses/Knee-Length                                      14770\n",
              "Name: category_name, dtype: int64"
            ]
          },
          "metadata": {
            "tags": []
          },
          "execution_count": 34
        }
      ]
    },
    {
      "metadata": {
        "id": "yRNm7SUxJWS8",
        "colab_type": "code",
        "colab": {}
      },
      "cell_type": "code",
      "source": [
        "def transform_category_name(category_name):\n",
        "    try:\n",
        "        main, sub1, sub2= category_name.split('/')\n",
        "        return main, sub1, sub2\n",
        "    except:\n",
        "        return np.nan, np.nan, np.nan\n",
        "\n"
      ],
      "execution_count": 0,
      "outputs": []
    },
    {
      "metadata": {
        "id": "e5fKjlSoJWTA",
        "colab_type": "code",
        "colab": {}
      },
      "cell_type": "code",
      "source": [
        "train['category_main'], train['category_sub1'], train['category_sub2'] = zip(*train['category_name'].apply(transform_category_name))"
      ],
      "execution_count": 0,
      "outputs": []
    },
    {
      "metadata": {
        "id": "xNyAhxxzJWTH",
        "colab_type": "code",
        "outputId": "bd72f07a-34b5-43eb-972a-8c5750fc2ca6",
        "colab": {
          "base_uri": "https://localhost:8080/",
          "height": 204
        }
      },
      "cell_type": "code",
      "source": [
        "maincat = [x for x in train['category_main'].unique() if type(x)==str]\n",
        "catsum=0\n",
        "for x in maincat:\n",
        "    catsum+=100*len(train[train['category_main']==x])/len(train)\n",
        "    print('{:25}{:3f}% of training data'.format(x, 100*len(train[train['category_main']==x])/len(train)))\n",
        "print('nan {:3f}% of training data'.format(100-catsum))"
      ],
      "execution_count": 0,
      "outputs": [
        {
          "output_type": "stream",
          "text": [
            "Men                      6.297524% of training data\n",
            "Electronics              8.069354% of training data\n",
            "Women                    44.814119% of training data\n",
            "Home                     4.578037% of training data\n",
            "Sports & Outdoors        1.641175% of training data\n",
            "Vintage & Collectibles   3.138543% of training data\n",
            "Beauty                   14.018421% of training data\n",
            "Other                    3.059017% of training data\n",
            "Kids                     11.580772% of training data\n",
            "Handmade                 2.080221% of training data\n",
            "nan 0.722816% of training data\n"
          ],
          "name": "stdout"
        }
      ]
    },
    {
      "metadata": {
        "id": "YW0Eisa3JWTK",
        "colab_type": "code",
        "outputId": "0db450ee-7a5e-49bb-946c-bf1a28a23149",
        "colab": {}
      },
      "cell_type": "code",
      "source": [
        "category_names=train.category_main.unique()\n",
        "expensive_cat=list()\n",
        "category_names"
      ],
      "execution_count": 0,
      "outputs": [
        {
          "output_type": "execute_result",
          "data": {
            "text/plain": [
              "array(['Men', 'Electronics', 'Women', 'Home', 'Sports & Outdoors',\n",
              "       'Vintage & Collectibles', 'Beauty', 'Other', 'Kids', nan,\n",
              "       'Handmade'], dtype=object)"
            ]
          },
          "metadata": {
            "tags": []
          },
          "execution_count": 38
        }
      ]
    },
    {
      "metadata": {
        "id": "TjfP7sqsJWTO",
        "colab_type": "code",
        "outputId": "653d2c2a-703e-4b81-8589-24e4a042afc6",
        "colab": {}
      },
      "cell_type": "code",
      "source": [
        "train.category_main.isna().sum()\n",
        "train.category_sub1.isna().sum()\n",
        "train.category_sub2.isna().sum()\n"
      ],
      "execution_count": 0,
      "outputs": [
        {
          "output_type": "execute_result",
          "data": {
            "text/plain": [
              "10716"
            ]
          },
          "metadata": {
            "tags": []
          },
          "execution_count": 39
        }
      ]
    },
    {
      "metadata": {
        "id": "ByNG0GpLJWTU",
        "colab_type": "code",
        "outputId": "34c33f75-6b54-4802-8b69-944c49d3ac23",
        "colab": {}
      },
      "cell_type": "code",
      "source": [
        "print(\"Percentage of missing values: \",10716*100/len(train.category_name))"
      ],
      "execution_count": 0,
      "outputs": [
        {
          "output_type": "stream",
          "text": [
            "Percentage of missing values:  0.7228159874809026\n"
          ],
          "name": "stdout"
        }
      ]
    },
    {
      "metadata": {
        "id": "eInNg_XEJWTZ",
        "colab_type": "code",
        "colab": {}
      },
      "cell_type": "code",
      "source": [
        "for name in category_names:\n",
        "    if len(train[train['category_main']==name] )>=10:\n",
        "                       expensive_cat.append([name,train.price[train['category_main']==name].median()])\n"
      ],
      "execution_count": 0,
      "outputs": []
    },
    {
      "metadata": {
        "id": "R1R7w-VwJWTe",
        "colab_type": "code",
        "colab": {}
      },
      "cell_type": "code",
      "source": [
        "expensive_cat.sort(key=lambda x: x[1],reverse=True)"
      ],
      "execution_count": 0,
      "outputs": []
    },
    {
      "metadata": {
        "id": "fNZzqItlJWTh",
        "colab_type": "code",
        "outputId": "f0dd4d03-41de-4385-ce40-f6a5bde9e68c",
        "colab": {}
      },
      "cell_type": "code",
      "source": [
        "expensive_cat"
      ],
      "execution_count": 0,
      "outputs": [
        {
          "output_type": "execute_result",
          "data": {
            "text/plain": [
              "[['Men', 21.0],\n",
              " ['Women', 19.0],\n",
              " ['Home', 18.0],\n",
              " ['Sports & Outdoors', 16.0],\n",
              " ['Vintage & Collectibles', 16.0],\n",
              " ['Electronics', 15.0],\n",
              " ['Beauty', 15.0],\n",
              " ['Other', 14.0],\n",
              " ['Kids', 14.0],\n",
              " ['Handmade', 12.0]]"
            ]
          },
          "metadata": {
            "tags": []
          },
          "execution_count": 43
        }
      ]
    },
    {
      "metadata": {
        "id": "FZ3MscCIJWTl",
        "colab_type": "code",
        "outputId": "72cab2b5-770f-4e9a-aed2-0be20831ed09",
        "colab": {}
      },
      "cell_type": "code",
      "source": [
        "df1 = train.groupby(['category_main'])['price'].agg(['size','sum'])\n",
        "df1['mean_price']=df1['sum']/df1['size']\n",
        "df1.sort_values(by=['mean_price'], ascending=False, inplace=True)\n",
        "df1 = df1[:10]\n",
        "df1.sort_values(by=['mean_price'], ascending=True, inplace=True)\n",
        "\n",
        "plt.figure(figsize=(10, 4))\n",
        "plt.barh(range(0,len(df1)), df1['mean_price'])\n",
        "plt.yticks(range(0,len(df1)), df1.index, fontsize=10)\n",
        "plt.xticks(fontsize=10)\n",
        "\n",
        "plt.xlabel('Price', fontsize=10)\n",
        "\n",
        "plt.legend(fontsize=10)\n",
        "plt.show()"
      ],
      "execution_count": 0,
      "outputs": [
        {
          "output_type": "stream",
          "text": [
            "No handles with labels found to put in legend.\n"
          ],
          "name": "stderr"
        },
        {
          "output_type": "display_data",
          "data": {
            "image/png": "[encoded data removed]",
            "text/plain": [
              "<matplotlib.figure.Figure at 0xc7ebc70>"
            ]
          },
          "metadata": {
            "tags": []
          }
        }
      ]
    },
    {
      "metadata": {
        "id": "riSDKHmyJWTo",
        "colab_type": "code",
        "outputId": "c75519e1-1475-411e-8e46-a9264496d28a",
        "colab": {}
      },
      "cell_type": "code",
      "source": [
        "train.columns"
      ],
      "execution_count": 0,
      "outputs": [
        {
          "output_type": "execute_result",
          "data": {
            "text/plain": [
              "Index(['train_id', 'name', 'item_condition_id', 'category_name', 'brand_name',\n",
              "       'price', 'shipping', 'item_description', 'category_main',\n",
              "       'category_sub1', 'category_sub2'],\n",
              "      dtype='object')"
            ]
          },
          "metadata": {
            "tags": []
          },
          "execution_count": 45
        }
      ]
    },
    {
      "metadata": {
        "id": "wQy8a-n5JWTr",
        "colab_type": "code",
        "outputId": "58da5457-df68-4893-8f55-9541251e8863",
        "colab": {}
      },
      "cell_type": "code",
      "source": [
        "train.category_sub1.describe()"
      ],
      "execution_count": 0,
      "outputs": [
        {
          "output_type": "execute_result",
          "data": {
            "text/plain": [
              "count              1471819\n",
              "unique                 113\n",
              "top       Athletic Apparel\n",
              "freq                134383\n",
              "Name: category_sub1, dtype: object"
            ]
          },
          "metadata": {
            "tags": []
          },
          "execution_count": 46
        }
      ]
    },
    {
      "metadata": {
        "id": "30IOJuzHJWTv",
        "colab_type": "code",
        "outputId": "072cd692-d1ee-477a-c5d0-716749145efa",
        "colab": {}
      },
      "cell_type": "code",
      "source": [
        "df = train.groupby(['category_sub1'])['price'].agg(['size','sum'])\n",
        "df['mean_price']=df['sum']/df['size']\n",
        "df.sort_values(by=['mean_price'], ascending=False, inplace=True)\n",
        "df = df[:10]\n",
        "df.sort_values(by=['mean_price'], ascending=True, inplace=True)\n",
        "\n",
        "plt.figure(figsize=(10, 4))\n",
        "plt.barh(range(0,len(df)), df['mean_price'])\n",
        "plt.yticks(range(0,len(df)), df.index, fontsize=10)\n",
        "plt.xticks(fontsize=10)\n",
        "\n",
        "plt.xlabel('Price', fontsize=10)\n",
        "\n",
        "plt.legend(fontsize=10)\n",
        "plt.show()"
      ],
      "execution_count": 0,
      "outputs": [
        {
          "output_type": "stream",
          "text": [
            "No handles with labels found to put in legend.\n"
          ],
          "name": "stderr"
        },
        {
          "output_type": "display_data",
          "data": {
            "image/png": "[encoded data removed]",
            "text/plain": [
              "<matplotlib.figure.Figure at 0x42c8290>"
            ]
          },
          "metadata": {
            "tags": []
          }
        }
      ]
    },
    {
      "metadata": {
        "id": "35Tsl--vJWT1",
        "colab_type": "code",
        "outputId": "d0b20ee6-06ef-4c0d-c38e-8770cc51886b",
        "colab": {}
      },
      "cell_type": "code",
      "source": [
        "train.category_sub2.describe()"
      ],
      "execution_count": 0,
      "outputs": [
        {
          "output_type": "execute_result",
          "data": {
            "text/plain": [
              "count                     1471819\n",
              "unique                        864\n",
              "top       Pants, Tights, Leggings\n",
              "freq                        60177\n",
              "Name: category_sub2, dtype: object"
            ]
          },
          "metadata": {
            "tags": []
          },
          "execution_count": 48
        }
      ]
    },
    {
      "metadata": {
        "id": "FLQJ3ulAJWT3",
        "colab_type": "code",
        "outputId": "3e0e91c2-e8e0-43be-8fa7-725527c017e3",
        "colab": {}
      },
      "cell_type": "code",
      "source": [
        "df2 = train.groupby(['category_sub2'])['price'].agg(['size','sum'])\n",
        "df2['mean_price']=df2['sum']/df2['size']\n",
        "df2.sort_values(by=['mean_price'], ascending=False, inplace=True)\n",
        "df2 = df2[:10]\n",
        "df2.sort_values(by=['mean_price'], ascending=True, inplace=True)\n",
        "\n",
        "plt.figure(figsize=(10, 4))\n",
        "plt.barh(range(0,len(df2)), df2['mean_price'])\n",
        "plt.yticks(range(0,len(df2)), df2.index, fontsize=10)\n",
        "plt.xticks(fontsize=15)\n",
        "\n",
        "plt.xlabel('Price', fontsize=10)\n",
        "\n",
        "plt.legend(fontsize=10)\n",
        "plt.show()"
      ],
      "execution_count": 0,
      "outputs": [
        {
          "output_type": "stream",
          "text": [
            "No handles with labels found to put in legend.\n"
          ],
          "name": "stderr"
        },
        {
          "output_type": "display_data",
          "data": {
            "image/png": "[encoded data removed]",
            "text/plain": [
              "<matplotlib.figure.Figure at 0x4086f90>"
            ]
          },
          "metadata": {
            "tags": []
          }
        }
      ]
    },
    {
      "metadata": {
        "id": "Smft9PVtJWT9",
        "colab_type": "code",
        "outputId": "c49abfbb-caea-4ba7-fbfa-e7e67d8fc2ef",
        "colab": {}
      },
      "cell_type": "code",
      "source": [
        "train.name.describe()"
      ],
      "execution_count": 0,
      "outputs": [
        {
          "output_type": "execute_result",
          "data": {
            "text/plain": [
              "count     1482535\n",
              "unique    1225273\n",
              "top        Bundle\n",
              "freq         2232\n",
              "Name: name, dtype: object"
            ]
          },
          "metadata": {
            "tags": []
          },
          "execution_count": 50
        }
      ]
    },
    {
      "metadata": {
        "id": "uSdqzkLyJWT_",
        "colab_type": "code",
        "outputId": "2271f447-13e5-4685-e20d-a838aeb05d2b",
        "colab": {}
      },
      "cell_type": "code",
      "source": [
        "print(\"Number of duplicate values: \",len(train.name)-len(train.name.unique()))"
      ],
      "execution_count": 0,
      "outputs": [
        {
          "output_type": "stream",
          "text": [
            "Number of duplicate values:  257262\n"
          ],
          "name": "stdout"
        }
      ]
    },
    {
      "metadata": {
        "id": "5mFqeCg-JWUD",
        "colab_type": "code",
        "outputId": "14c36c11-c408-4dd7-8a75-92dbdc16b303",
        "colab": {}
      },
      "cell_type": "code",
      "source": [
        "print(\"Percentage of duplicate values: \",257262*100/len(train.name))"
      ],
      "execution_count": 0,
      "outputs": [
        {
          "output_type": "stream",
          "text": [
            "Percentage of duplicate values:  17.35284495812915\n"
          ],
          "name": "stdout"
        }
      ]
    },
    {
      "metadata": {
        "id": "b6hKBDRSJWUG",
        "colab_type": "code",
        "outputId": "0f25fcf6-605b-4678-b6ea-ffd5cceb52e1",
        "colab": {}
      },
      "cell_type": "code",
      "source": [
        "train.name.value_counts()"
      ],
      "execution_count": 0,
      "outputs": [
        {
          "output_type": "execute_result",
          "data": {
            "text/plain": [
              "Bundle                                      2232\n",
              "Reserved                                     453\n",
              "Converse                                     445\n",
              "BUNDLE                                       418\n",
              "Dress                                        410\n",
              "Coach purse                                  404\n",
              "Lularoe TC leggings                          396\n",
              "Romper                                       353\n",
              "Nike                                         340\n",
              "Vans                                         334\n",
              "American Eagle Jeans                         325\n",
              "Miss Me Jeans                                284\n",
              "Lularoe OS leggings                          281\n",
              "ON HOLD                                      274\n",
              "Coach Purse                                  258\n",
              "Lularoe Irma                                 254\n",
              "Shorts                                       247\n",
              "Michael Kors Purse                           243\n",
              "Bundle!                                      242\n",
              "Coach wallet                                 242\n",
              "Miss me jeans                                238\n",
              "Michael Kors Wallet                          233\n",
              "Rae Dunn                                     227\n",
              "Lularoe TC Leggings                          220\n",
              "Sandals                                      218\n",
              "Nike shoes                                   212\n",
              "American eagle jeans                         211\n",
              "Nike shorts                                  210\n",
              "Michael Kors                                 206\n",
              "Jeans                                        204\n",
              "                                            ... \n",
              "I love my frenchie listing                     1\n",
              "Reflections Dress By Retrolicious. Med.        1\n",
              "Women's capris jeans size 3/4                  1\n",
              "BABY K'TAN small                               1\n",
              "SONY PORTABLE SOUND SYSTEM BOOMBOX             1\n",
              "Michael Kors two-way Pocketbook                1\n",
              "Fun brooch                                     1\n",
              "Arm & Hammer Bundle                            1\n",
              "PINK shirt XS                                  1\n",
              "Bundle Purchase for Jellyfish                  1\n",
              "Men's timberland boots sz 12                   1\n",
              "Lularoe tc French bulldogs 2 irmas             1\n",
              "BNWT lularoe TC leggings pomegranate           1\n",
              "Size 2C Jordan's                               1\n",
              "Authentic Pink Breast Cancer Bracelet          1\n",
              "pastel pink adidas superstars                  1\n",
              "OSMW JB GRASSY                                 1\n",
              "New Girls Carter's 2 piece pajamas             1\n",
              "(6) 10 count Hazelnut Dunkin Donut kcups       1\n",
              "Mary Kay creme lipstick 7 piece bundle         1\n",
              "Lularoe OS Hipster Lion Leggings, NWT          1\n",
              "Columbia 4s Jordan's                           1\n",
              "Glo Gang Hoodie Size Large                     1\n",
              "(20) 5X7 Poly Mailers                          1\n",
              "Microsoft Xbox Live 3 Months Gold              1\n",
              "Tball gear                                     1\n",
              "Vs Pink New York Dog. New in box.              1\n",
              "Forever21 romper NWT                           1\n",
              "Concept Darth Vader with coin                  1\n",
              "HUGE BRANDY MELVILLE BUNDLE                    1\n",
              "Name: name, Length: 1225273, dtype: int64"
            ]
          },
          "metadata": {
            "tags": []
          },
          "execution_count": 53
        }
      ]
    },
    {
      "metadata": {
        "id": "PXgZb8zwJWUI",
        "colab_type": "code",
        "colab": {}
      },
      "cell_type": "code",
      "source": [
        "train.name=train.name.str.lower()"
      ],
      "execution_count": 0,
      "outputs": []
    },
    {
      "metadata": {
        "scrolled": true,
        "id": "79aJsZMuJWUK",
        "colab_type": "code",
        "outputId": "3e4d04d5-12d2-49c5-d826-0fd89c2fcecf",
        "colab": {}
      },
      "cell_type": "code",
      "source": [
        "train.name.value_counts()"
      ],
      "execution_count": 0,
      "outputs": [
        {
          "output_type": "execute_result",
          "data": {
            "text/plain": [
              "bundle                                      2778\n",
              "lularoe tc leggings                         1126\n",
              "lularoe os leggings                          897\n",
              "coach purse                                  698\n",
              "american eagle jeans                         671\n",
              "miss me jeans                                670\n",
              "reserved                                     654\n",
              "on hold                                      562\n",
              "michael kors purse                           557\n",
              "michael kors wallet                          489\n",
              "converse                                     473\n",
              "lularoe irma                                 453\n",
              "coach wallet                                 436\n",
              "dress                                        428\n",
              "nike shorts                                  407\n",
              "lularoe leggings                             394\n",
              "vans                                         383\n",
              "hollister jeans                              381\n",
              "coach wristlet                               380\n",
              "romper                                       379\n",
              "reserved bundle                              367\n",
              "american eagle shorts                        360\n",
              "victoria secret bra                          351\n",
              "nike                                         350\n",
              "kate spade wallet                            337\n",
              "nike shoes                                   336\n",
              "michael kors                                 333\n",
              "makeup bundle                                331\n",
              "victoria's secret bra                        323\n",
              "tc lularoe leggings                          319\n",
              "                                            ... \n",
              "hot unicorn print octopus os                   1\n",
              "medium black puma tshirt                       1\n",
              "west coast sweatshirt                          1\n",
              "maybelline super stay 24 couleur               1\n",
              "teal tube top                                  1\n",
              "four item bundle for whitney                   1\n",
              "henri bendel jetsetter purse                   1\n",
              "2 lilac purple cotton pillow cases             1\n",
              "apple cider cabinet                            1\n",
              "nwt nike pro shorts sz. s                      1\n",
              "purple nike gym bag                            1\n",
              "black suede flats with gold stars              1\n",
              "anne klein dark tan pumps size 7 1/2           1\n",
              "sofia the first magical talking castle         1\n",
              "ambersnelling post                             1\n",
              "brandy melville openback eyelet tank top       1\n",
              "sims 4 pc game.                                1\n",
              "the north face boys down jacket lg             1\n",
              "nyx lipgloss lot                               1\n",
              "target hi lo top                               1\n",
              "adidas ultra boost uncaged sz 9.5              1\n",
              "tommy bahama xxl dress shirt khaki             1\n",
              "doterra intro kit                              1\n",
              "skullcandy slyr halo edition                   1\n",
              "foot joy contour size 12                       1\n",
              "benefit / tory burch / elf                     1\n",
              "nwt 3t chams jeans                             1\n",
              "vs pink bedding full size                      1\n",
              "lot of 9 shea moisture soap                    1\n",
              "four decks of cards against humanity           1\n",
              "Name: name, Length: 1139301, dtype: int64"
            ]
          },
          "metadata": {
            "tags": []
          },
          "execution_count": 55
        }
      ]
    },
    {
      "metadata": {
        "id": "3ZqS4IJNJWUR",
        "colab_type": "code",
        "colab": {}
      },
      "cell_type": "code",
      "source": [
        "m=[]\n",
        "k=[]\n",
        "for i in train['name']:\n",
        "    m=i.split()\n",
        "    k.append(len(m))\n",
        "    m=[]\n"
      ],
      "execution_count": 0,
      "outputs": []
    },
    {
      "metadata": {
        "id": "WlGK7Mn0JWUU",
        "colab_type": "code",
        "outputId": "4e5a1414-65a4-4ed0-b4ec-4baf07f54de0",
        "colab": {}
      },
      "cell_type": "code",
      "source": [
        "plt.plot(k)"
      ],
      "execution_count": 0,
      "outputs": [
        {
          "output_type": "execute_result",
          "data": {
            "text/plain": [
              "[<matplotlib.lines.Line2D at 0x26ea2930>]"
            ]
          },
          "metadata": {
            "tags": []
          },
          "execution_count": 57
        },
        {
          "output_type": "display_data",
          "data": {
            "image/png": "[encoded data removed]",
            "text/plain": [
              "<matplotlib.figure.Figure at 0x27e3b2b0>"
            ]
          },
          "metadata": {
            "tags": []
          }
        }
      ]
    },
    {
      "metadata": {
        "id": "7iypoQNGJWUX",
        "colab_type": "code",
        "outputId": "b4832206-6abf-4b36-f4f4-7014069a1cde",
        "colab": {}
      },
      "cell_type": "code",
      "source": [
        "print(max(k))\n",
        "print(min(k))\n",
        "print(k.index(1))"
      ],
      "execution_count": 0,
      "outputs": [
        {
          "output_type": "stream",
          "text": [
            "17\n",
            "1\n",
            "98\n"
          ],
          "name": "stdout"
        }
      ]
    },
    {
      "metadata": {
        "id": "T38mqJiqJWUZ",
        "colab_type": "code",
        "outputId": "561a0fba-0f52-4240-bd07-5761080a5745",
        "colab": {}
      },
      "cell_type": "code",
      "source": [
        "print(train.iloc[[98]])"
      ],
      "execution_count": 0,
      "outputs": [
        {
          "output_type": "stream",
          "text": [
            "    train_id   name  item_condition_id                  category_name  \\\n",
            "98        98  gucci                  3  Men/Men's Accessories/Watches   \n",
            "\n",
            "   brand_name  price  shipping  \\\n",
            "98    missing   49.0         0   \n",
            "\n",
            "                                     item_description category_main  \\\n",
            "98  Rose gold bezel and crown Engraved logo Red an...           Men   \n",
            "\n",
            "        category_sub1 category_sub2  \n",
            "98  Men's Accessories       Watches  \n"
          ],
          "name": "stdout"
        }
      ]
    },
    {
      "metadata": {
        "id": "Qnwi84kRJWUc",
        "colab_type": "code",
        "outputId": "be46f205-d0d9-4eda-b135-f0b1bf191e5d",
        "colab": {}
      },
      "cell_type": "code",
      "source": [
        "train['item_description'].describe()"
      ],
      "execution_count": 0,
      "outputs": [
        {
          "output_type": "execute_result",
          "data": {
            "text/plain": [
              "count                1482531\n",
              "unique               1281426\n",
              "top       No description yet\n",
              "freq                   82489\n",
              "Name: item_description, dtype: object"
            ]
          },
          "metadata": {
            "tags": []
          },
          "execution_count": 74
        }
      ]
    },
    {
      "metadata": {
        "id": "SUoIMVVCJWUf",
        "colab_type": "code",
        "colab": {}
      },
      "cell_type": "code",
      "source": [
        "train['item_description'] = train['item_description'].str.lower()"
      ],
      "execution_count": 0,
      "outputs": []
    },
    {
      "metadata": {
        "id": "GZZcfTBzJWUh",
        "colab_type": "code",
        "outputId": "a2178950-c0cc-439a-fae9-9a7f47c81782",
        "colab": {}
      },
      "cell_type": "code",
      "source": [
        "train[train.item_description.isna()]"
      ],
      "execution_count": 0,
      "outputs": [
        {
          "output_type": "execute_result",
          "data": {
            "text/html": [
              "<div>\n",
              "<style scoped>\n",
              "    .dataframe tbody tr th:only-of-type {\n",
              "        vertical-align: middle;\n",
              "    }\n",
              "\n",
              "    .dataframe tbody tr th {\n",
              "        vertical-align: top;\n",
              "    }\n",
              "\n",
              "    .dataframe thead th {\n",
              "        text-align: right;\n",
              "    }\n",
              "</style>\n",
              "<table border=\"1\" class=\"dataframe\">\n",
              "  <thead>\n",
              "    <tr style=\"text-align: right;\">\n",
              "      <th></th>\n",
              "      <th>train_id</th>\n",
              "      <th>name</th>\n",
              "      <th>item_condition_id</th>\n",
              "      <th>category_name</th>\n",
              "      <th>brand_name</th>\n",
              "      <th>price</th>\n",
              "      <th>shipping</th>\n",
              "      <th>item_description</th>\n",
              "    </tr>\n",
              "  </thead>\n",
              "  <tbody>\n",
              "    <tr>\n",
              "      <th>511535</th>\n",
              "      <td>511535</td>\n",
              "      <td>Shoes for Michelle</td>\n",
              "      <td>4</td>\n",
              "      <td>Kids/Girls 0-24 Mos/Shoes</td>\n",
              "      <td>NaN</td>\n",
              "      <td>9.0</td>\n",
              "      <td>0</td>\n",
              "      <td>NaN</td>\n",
              "    </tr>\n",
              "    <tr>\n",
              "      <th>861230</th>\n",
              "      <td>861230</td>\n",
              "      <td>Lipgloss</td>\n",
              "      <td>4</td>\n",
              "      <td>Beauty/Makeup/Lips</td>\n",
              "      <td>NaN</td>\n",
              "      <td>49.0</td>\n",
              "      <td>0</td>\n",
              "      <td>NaN</td>\n",
              "    </tr>\n",
              "    <tr>\n",
              "      <th>1224924</th>\n",
              "      <td>1224924</td>\n",
              "      <td>Disney Minnie Head band</td>\n",
              "      <td>3</td>\n",
              "      <td>Women/Women's Accessories/Hair Accessories</td>\n",
              "      <td>Disney</td>\n",
              "      <td>9.0</td>\n",
              "      <td>0</td>\n",
              "      <td>NaN</td>\n",
              "    </tr>\n",
              "    <tr>\n",
              "      <th>1264242</th>\n",
              "      <td>1264242</td>\n",
              "      <td>For Bianca</td>\n",
              "      <td>3</td>\n",
              "      <td>Women/Women's Accessories/Scarves &amp; Wraps</td>\n",
              "      <td>NaN</td>\n",
              "      <td>10.0</td>\n",
              "      <td>1</td>\n",
              "      <td>NaN</td>\n",
              "    </tr>\n",
              "  </tbody>\n",
              "</table>\n",
              "</div>"
            ],
            "text/plain": [
              "         train_id                     name  item_condition_id  \\\n",
              "511535     511535       Shoes for Michelle                  4   \n",
              "861230     861230                 Lipgloss                  4   \n",
              "1224924   1224924  Disney Minnie Head band                  3   \n",
              "1264242   1264242               For Bianca                  3   \n",
              "\n",
              "                                      category_name brand_name  price  \\\n",
              "511535                    Kids/Girls 0-24 Mos/Shoes        NaN    9.0   \n",
              "861230                           Beauty/Makeup/Lips        NaN   49.0   \n",
              "1224924  Women/Women's Accessories/Hair Accessories     Disney    9.0   \n",
              "1264242   Women/Women's Accessories/Scarves & Wraps        NaN   10.0   \n",
              "\n",
              "         shipping item_description  \n",
              "511535          0              NaN  \n",
              "861230          0              NaN  \n",
              "1224924         0              NaN  \n",
              "1264242         1              NaN  "
            ]
          },
          "metadata": {
            "tags": []
          },
          "execution_count": 15
        }
      ]
    },
    {
      "metadata": {
        "id": "FPDIu-L_JWUk",
        "colab_type": "raw"
      },
      "cell_type": "markdown",
      "source": [
        ""
      ]
    },
    {
      "metadata": {
        "id": "8EnKHqjnJWUk",
        "colab_type": "code",
        "outputId": "d8b8428d-b45d-41fb-bbef-60bef728f7e1",
        "colab": {
          "base_uri": "https://localhost:8080/",
          "height": 351
        }
      },
      "cell_type": "code",
      "source": [
        "from wordcloud import WordCloud\n",
        "\n",
        "wordcloud = WordCloud(width = 500, height = 500).generate(\" \".join(train.item_description.astype(str)))\n",
        "\n",
        "plt.imshow(wordcloud)\n",
        "plt.axis(\"off\")\n",
        "plt.show()"
      ],
      "execution_count": 0,
      "outputs": [
        {
          "output_type": "display_data",
          "data": {
            "image/png": "[encoded data removed]",
            "text/plain": [
              "<matplotlib.figure.Figure at 0x7fb47d51ce80>"
            ]
          },
          "metadata": {
            "tags": []
          }
        }
      ]
    },
    {
      "metadata": {
        "id": "_1AtgOPZJWUn",
        "colab_type": "code",
        "outputId": "e3e8bd52-b91d-45a6-ded8-19c6c34bc648",
        "colab": {}
      },
      "cell_type": "code",
      "source": [
        "train_ds = pd.Series(train['item_description'].tolist()).astype(str)\n",
        "test_ds = pd.Series(test['item_description'].tolist()).astype(str)\n",
        "\n",
        "bins=100\n",
        "plt.figure(figsize=(20, 15))\n",
        "plt.hist(train_ds.apply(len), bins, range=[0,600], label='train')\n",
        "plt.hist(test_ds.apply(len), bins, alpha=0.6,range=[0,600], label='test')\n",
        "plt.title('Histogram of character count', fontsize=15)\n",
        "plt.xlabel('Characters Number', fontsize=15)\n",
        "plt.ylabel('Frequency', fontsize=15)\n",
        "plt.xticks(fontsize=15)\n",
        "plt.yticks(fontsize=15)\n",
        "plt.legend(fontsize=15)\n",
        "plt.show()\n"
      ],
      "execution_count": 0,
      "outputs": [
        {
          "output_type": "display_data",
          "data": {
            "image/png": "[encoded data removed]",
            "text/plain": [
              "<matplotlib.figure.Figure at 0xb7eb6b0>"
            ]
          },
          "metadata": {
            "tags": []
          }
        }
      ]
    },
    {
      "metadata": {
        "id": "GYGCdJZ0JWUq",
        "colab_type": "code",
        "colab": {}
      },
      "cell_type": "code",
      "source": [
        "train['has_description'] = 1\n",
        "train.loc[train['item_description']=='No description yet', 'has_description'] = 0\n"
      ],
      "execution_count": 0,
      "outputs": []
    },
    {
      "metadata": {
        "id": "Z1TzJFAiJWUu",
        "colab_type": "code",
        "outputId": "74ffc110-50c4-4885-e46d-d51f0deae3f8",
        "colab": {}
      },
      "cell_type": "code",
      "source": [
        "\n",
        "bins=50\n",
        "plt.hist(train[train['has_description']==1]['price'], bins, range=[0,250],\n",
        "         alpha=0.6, label='price when has_description==1')\n",
        "plt.hist(train[train['has_description']==0]['price'], bins, range=[0,250],\n",
        "         alpha=0.6, label='price when has_description==0')\n",
        "plt.title('Train price X has_description type distribution', fontsize=15)\n",
        "plt.xlabel('Price', fontsize=15)\n",
        "plt.ylabel('Samples', fontsize=15)\n",
        "plt.xticks(fontsize=15)\n",
        "plt.yticks(fontsize=15)\n",
        "plt.legend(fontsize=15)\n",
        "plt.show()\n"
      ],
      "execution_count": 0,
      "outputs": [
        {
          "output_type": "display_data",
          "data": {
            "image/png": "[encoded data removed]",
            "text/plain": [
              "<matplotlib.figure.Figure at 0xb7f8930>"
            ]
          },
          "metadata": {
            "tags": []
          }
        }
      ]
    },
    {
      "metadata": {
        "id": "KbswNaMLJWU0",
        "colab_type": "code",
        "outputId": "8c9c861f-40d5-4c5f-9b8f-93434ab023e0",
        "colab": {}
      },
      "cell_type": "code",
      "source": [
        "bins=100\n",
        "plt.figure(figsize=(20, 15))\n",
        "plt.hist(train_ds.apply(lambda x: len(x.split())), bins, range=[0,100])\n",
        "\n",
        "plt.xlabel('Number of words', fontsize=15)\n",
        "plt.ylabel('Frequency', fontsize=15)\n",
        "plt.xticks(fontsize=15)\n",
        "plt.yticks(fontsize=15)\n",
        "plt.legend(fontsize=15)\n",
        "plt.show()\n"
      ],
      "execution_count": 0,
      "outputs": [
        {
          "output_type": "stream",
          "text": [
            "No handles with labels found to put in legend.\n"
          ],
          "name": "stderr"
        },
        {
          "output_type": "display_data",
          "data": {
            "image/png": "[encoded data removed]",
            "text/plain": [
              "<matplotlib.figure.Figure at 0xc2afa90>"
            ]
          },
          "metadata": {
            "tags": []
          }
        }
      ]
    },
    {
      "metadata": {
        "id": "xeTOlCHGJWU2",
        "colab_type": "code",
        "colab": {}
      },
      "cell_type": "code",
      "source": [
        "y_true=train['price']"
      ],
      "execution_count": 0,
      "outputs": []
    },
    {
      "metadata": {
        "id": "0vpupe9CJWU3",
        "colab_type": "code",
        "outputId": "9be40826-8841-47ab-ae5c-eda1eea22cdf",
        "colab": {
          "base_uri": "https://localhost:8080/",
          "height": 119
        }
      },
      "cell_type": "code",
      "source": [
        "y_true.head()"
      ],
      "execution_count": 0,
      "outputs": [
        {
          "output_type": "execute_result",
          "data": {
            "text/plain": [
              "0    10.0\n",
              "1    52.0\n",
              "2    10.0\n",
              "3    35.0\n",
              "4    44.0\n",
              "Name: price, dtype: float64"
            ]
          },
          "metadata": {
            "tags": []
          },
          "execution_count": 17
        }
      ]
    },
    {
      "metadata": {
        "id": "b4IMmAA_JWU6",
        "colab_type": "code",
        "colab": {}
      },
      "cell_type": "code",
      "source": [
        "X=train.drop('price',axis=1)\n"
      ],
      "execution_count": 0,
      "outputs": []
    },
    {
      "metadata": {
        "id": "b9dvynybJWU8",
        "colab_type": "code",
        "outputId": "4bb9cd85-b8aa-4813-fa29-796c1c6d354c",
        "colab": {}
      },
      "cell_type": "code",
      "source": [
        "X.head()"
      ],
      "execution_count": 0,
      "outputs": [
        {
          "output_type": "execute_result",
          "data": {
            "text/html": [
              "<div>\n",
              "<style scoped>\n",
              "    .dataframe tbody tr th:only-of-type {\n",
              "        vertical-align: middle;\n",
              "    }\n",
              "\n",
              "    .dataframe tbody tr th {\n",
              "        vertical-align: top;\n",
              "    }\n",
              "\n",
              "    .dataframe thead th {\n",
              "        text-align: right;\n",
              "    }\n",
              "</style>\n",
              "<table border=\"1\" class=\"dataframe\">\n",
              "  <thead>\n",
              "    <tr style=\"text-align: right;\">\n",
              "      <th></th>\n",
              "      <th>train_id</th>\n",
              "      <th>name</th>\n",
              "      <th>item_condition_id</th>\n",
              "      <th>category_name</th>\n",
              "      <th>brand_name</th>\n",
              "      <th>shipping</th>\n",
              "      <th>item_description</th>\n",
              "      <th>category_main</th>\n",
              "      <th>category_sub1</th>\n",
              "    </tr>\n",
              "  </thead>\n",
              "  <tbody>\n",
              "    <tr>\n",
              "      <th>0</th>\n",
              "      <td>0</td>\n",
              "      <td>mlb cincinnati reds t shirt size xl</td>\n",
              "      <td>3</td>\n",
              "      <td>Men/Tops/T-shirts</td>\n",
              "      <td>NaN</td>\n",
              "      <td>1</td>\n",
              "      <td>no description yet</td>\n",
              "      <td>Men</td>\n",
              "      <td>Tops</td>\n",
              "    </tr>\n",
              "    <tr>\n",
              "      <th>1</th>\n",
              "      <td>1</td>\n",
              "      <td>razer blackwidow chroma keyboard</td>\n",
              "      <td>3</td>\n",
              "      <td>Electronics/Computers &amp; Tablets/Components &amp; P...</td>\n",
              "      <td>Razer</td>\n",
              "      <td>0</td>\n",
              "      <td>this keyboard is in great condition and works ...</td>\n",
              "      <td>Electronics</td>\n",
              "      <td>Computers &amp; Tablets</td>\n",
              "    </tr>\n",
              "    <tr>\n",
              "      <th>2</th>\n",
              "      <td>2</td>\n",
              "      <td>ava viv blouse</td>\n",
              "      <td>1</td>\n",
              "      <td>Women/Tops &amp; Blouses/Blouse</td>\n",
              "      <td>Target</td>\n",
              "      <td>1</td>\n",
              "      <td>adorable top with a hint of lace and a key hol...</td>\n",
              "      <td>Women</td>\n",
              "      <td>Tops &amp; Blouses</td>\n",
              "    </tr>\n",
              "    <tr>\n",
              "      <th>3</th>\n",
              "      <td>3</td>\n",
              "      <td>leather horse statues</td>\n",
              "      <td>1</td>\n",
              "      <td>Home/Home Décor/Home Décor Accents</td>\n",
              "      <td>NaN</td>\n",
              "      <td>1</td>\n",
              "      <td>new with tags leather horses retail for rm eac...</td>\n",
              "      <td>Home</td>\n",
              "      <td>Home Décor</td>\n",
              "    </tr>\n",
              "    <tr>\n",
              "      <th>4</th>\n",
              "      <td>4</td>\n",
              "      <td>k gold plated rose</td>\n",
              "      <td>1</td>\n",
              "      <td>Women/Jewelry/Necklaces</td>\n",
              "      <td>NaN</td>\n",
              "      <td>0</td>\n",
              "      <td>complete with certificate of authenticity</td>\n",
              "      <td>Women</td>\n",
              "      <td>Jewelry</td>\n",
              "    </tr>\n",
              "  </tbody>\n",
              "</table>\n",
              "</div>"
            ],
            "text/plain": [
              "   train_id                                 name  item_condition_id  \\\n",
              "0         0  mlb cincinnati reds t shirt size xl                  3   \n",
              "1         1     razer blackwidow chroma keyboard                  3   \n",
              "2         2                       ava viv blouse                  1   \n",
              "3         3                leather horse statues                  1   \n",
              "4         4                   k gold plated rose                  1   \n",
              "\n",
              "                                       category_name brand_name  shipping  \\\n",
              "0                                  Men/Tops/T-shirts        NaN         1   \n",
              "1  Electronics/Computers & Tablets/Components & P...      Razer         0   \n",
              "2                        Women/Tops & Blouses/Blouse     Target         1   \n",
              "3                 Home/Home Décor/Home Décor Accents        NaN         1   \n",
              "4                            Women/Jewelry/Necklaces        NaN         0   \n",
              "\n",
              "                                    item_description category_main  \\\n",
              "0                                 no description yet           Men   \n",
              "1  this keyboard is in great condition and works ...   Electronics   \n",
              "2  adorable top with a hint of lace and a key hol...         Women   \n",
              "3  new with tags leather horses retail for rm eac...          Home   \n",
              "4          complete with certificate of authenticity         Women   \n",
              "\n",
              "         category_sub1  \n",
              "0                 Tops  \n",
              "1  Computers & Tablets  \n",
              "2       Tops & Blouses  \n",
              "3           Home Décor  \n",
              "4              Jewelry  "
            ]
          },
          "metadata": {
            "tags": []
          },
          "execution_count": 16
        }
      ]
    },
    {
      "metadata": {
        "id": "CKGy2IpcJWVL",
        "colab_type": "code",
        "colab": {}
      },
      "cell_type": "code",
      "source": [
        "from sklearn.feature_extraction.text import CountVectorizer, TfidfVectorizer\n",
        "from sklearn.preprocessing import LabelBinarizer\n",
        "\n",
        "import gc"
      ],
      "execution_count": 0,
      "outputs": []
    },
    {
      "metadata": {
        "id": "jEhD0tXU2Dk0",
        "colab_type": "code",
        "colab": {}
      },
      "cell_type": "code",
      "source": [
        "import scipy"
      ],
      "execution_count": 0,
      "outputs": []
    },
    {
      "metadata": {
        "id": "3E3fMB5IJWVM",
        "colab_type": "code",
        "outputId": "69f8f603-fa61-433e-bc5a-e25e749fa6af",
        "colab": {
          "base_uri": "https://localhost:8080/",
          "height": 102
        }
      },
      "cell_type": "code",
      "source": [
        "NUM_BRANDS = 2500\n",
        "NAME_MIN_DF = 10\n",
        "MAX_FEAT_DESCP = 50000\n",
        "\n",
        "\n",
        "\n",
        "\n",
        "train[\"category_name\"] = train[\"category_name\"].fillna(\"Other\").astype(\"category\")\n",
        "train[\"brand_name\"] = train[\"brand_name\"].fillna(\"unknown\")\n",
        "\n",
        "pop_brands = train[\"brand_name\"].value_counts().index[:NUM_BRANDS]\n",
        "train.loc[~train[\"brand_name\"].isin(pop_brands), \"brand_name\"] = \"Other\"\n",
        "\n",
        "train[\"item_description\"] = train[\"item_description\"].fillna(\"None\")\n",
        "train[\"item_condition_id\"] = train[\"item_condition_id\"].astype(\"category\")\n",
        "train[\"brand_name\"] = train[\"brand_name\"].astype(\"category\")\n",
        "\n",
        "#print(X_train.memory_usage(deep = True))\n",
        "\n",
        "print(\"Encodings\")\n",
        "count = CountVectorizer(min_df=NAME_MIN_DF)\n",
        "X_name = count.fit_transform(train[\"name\"])\n",
        "\n",
        "print(\"Category Encoders\")\n",
        "unique_categories = pd.Series(\"/\".join(train[\"category_name\"].unique().astype(\"str\")).split(\"/\")).unique()\n",
        "count_category = CountVectorizer()\n",
        "X_category = count_category.fit_transform(train[\"category_name\"])\n",
        "\n",
        "print(\"Descp encoders\")\n",
        "count_descp = TfidfVectorizer(max_features = MAX_FEAT_DESCP, \n",
        "                              ngram_range = (1,3),\n",
        "                              stop_words = \"english\")\n",
        "X_descp = count_descp.fit_transform(train[\"item_description\"])\n",
        "\n",
        "print(\"Brand encoders\")\n",
        "vect_brand = LabelBinarizer(sparse_output=True)\n",
        "X_brand = vect_brand.fit_transform(train[\"brand_name\"])\n",
        "\n",
        "print(\"Dummy Encoders\")\n",
        "X_dummies = scipy.sparse.csr_matrix(pd.get_dummies(train[[\n",
        "    \"item_condition_id\", \"shipping\"]], sparse = True).values)"
      ],
      "execution_count": 27,
      "outputs": [
        {
          "output_type": "stream",
          "text": [
            "Encodings\n",
            "Category Encoders\n",
            "Descp encoders\n",
            "Brand encoders\n",
            "Dummy Encoders\n"
          ],
          "name": "stdout"
        }
      ]
    },
    {
      "metadata": {
        "id": "TzrppFkEB8xS",
        "colab_type": "code",
        "colab": {}
      },
      "cell_type": "code",
      "source": [
        "from scipy.sparse import csr_matrix, hstack"
      ],
      "execution_count": 0,
      "outputs": []
    },
    {
      "metadata": {
        "id": "XdT-Q9gFJWVT",
        "colab_type": "code",
        "colab": {}
      },
      "cell_type": "code",
      "source": [
        "sparse_merge = hstack((X_dummies, X_descp, X_brand, X_category, X_name)).tocsr()"
      ],
      "execution_count": 0,
      "outputs": []
    },
    {
      "metadata": {
        "id": "s2a8a4uBCIKQ",
        "colab_type": "code",
        "outputId": "80279da7-9455-429d-fd03-f8383f864ce5",
        "colab": {
          "base_uri": "https://localhost:8080/",
          "height": 51
        }
      },
      "cell_type": "code",
      "source": [
        "sparse_merge"
      ],
      "execution_count": 0,
      "outputs": [
        {
          "output_type": "execute_result",
          "data": {
            "text/plain": [
              "<1482535x71258 sparse matrix of type '<class 'numpy.float64'>'\n",
              "\twith 48694803 stored elements in Compressed Sparse Row format>"
            ]
          },
          "metadata": {
            "tags": []
          },
          "execution_count": 32
        }
      ]
    },
    {
      "metadata": {
        "id": "MjJe7EGaFh4o",
        "colab_type": "code",
        "colab": {}
      },
      "cell_type": "code",
      "source": [
        "nrow_train = train.shape[0]\n",
        "y_true=np.log1p(train[\"price\"])"
      ],
      "execution_count": 0,
      "outputs": []
    },
    {
      "metadata": {
        "id": "TpMaL61cGS0D",
        "colab_type": "code",
        "colab": {}
      },
      "cell_type": "code",
      "source": [
        "X = sparse_merge[:nrow_train]\n"
      ],
      "execution_count": 0,
      "outputs": []
    },
    {
      "metadata": {
        "id": "_80xyZoTFkj1",
        "colab_type": "code",
        "colab": {}
      },
      "cell_type": "code",
      "source": [
        "from sklearn.model_selection import train_test_split\n",
        "\n",
        "X_train, X_test, y_train, y_test = train_test_split(X, y_true, test_size=0.33)"
      ],
      "execution_count": 0,
      "outputs": []
    },
    {
      "metadata": {
        "id": "J7zKk5EkGdpG",
        "colab_type": "code",
        "outputId": "cfbfddd7-2f33-4665-b676-c09d707b9b27",
        "colab": {
          "base_uri": "https://localhost:8080/",
          "height": 34
        }
      },
      "cell_type": "code",
      "source": [
        "X_train.shape"
      ],
      "execution_count": 0,
      "outputs": [
        {
          "output_type": "execute_result",
          "data": {
            "text/plain": [
              "(993298, 71258)"
            ]
          },
          "metadata": {
            "tags": []
          },
          "execution_count": 11
        }
      ]
    },
    {
      "metadata": {
        "id": "gI90qlJ0HMcw",
        "colab_type": "code",
        "outputId": "e72ec68f-c375-4e9b-9e35-1810f9ace99c",
        "colab": {
          "base_uri": "https://localhost:8080/",
          "height": 34
        }
      },
      "cell_type": "code",
      "source": [
        "X_test.shape"
      ],
      "execution_count": 0,
      "outputs": [
        {
          "output_type": "execute_result",
          "data": {
            "text/plain": [
              "(489237, 71258)"
            ]
          },
          "metadata": {
            "tags": []
          },
          "execution_count": 12
        }
      ]
    },
    {
      "metadata": {
        "id": "zGMMBuU4IPqu",
        "colab_type": "code",
        "colab": {}
      },
      "cell_type": "code",
      "source": [
        "from sklearn.ensemble import RandomForestRegressor"
      ],
      "execution_count": 0,
      "outputs": []
    },
    {
      "metadata": {
        "id": "FGS5BetTIVQc",
        "colab_type": "code",
        "colab": {}
      },
      "cell_type": "code",
      "source": [
        "rf = RandomForestRegressor(n_estimators = 10)"
      ],
      "execution_count": 0,
      "outputs": []
    },
    {
      "metadata": {
        "id": "RdYKIY7OIXZC",
        "colab_type": "code",
        "colab": {}
      },
      "cell_type": "code",
      "source": [
        "rf.fit(X_train, y_train)"
      ],
      "execution_count": 0,
      "outputs": []
    },
    {
      "metadata": {
        "id": "czxXG-i8Z_q1",
        "colab_type": "code",
        "outputId": "3c733b72-23f0-462e-d605-3c528f7f08a3",
        "colab": {
          "base_uri": "https://localhost:8080/",
          "height": 51
        }
      },
      "cell_type": "code",
      "source": [
        "from sklearn.linear_model import Ridge, LogisticRegression\n",
        "lr = Ridge(solver = \"lsqr\", fit_intercept=False)\n",
        "#lr = LogisticRegression(random_state=99)\n",
        "lr.fit(X_train, y_train)"
      ],
      "execution_count": 33,
      "outputs": [
        {
          "output_type": "execute_result",
          "data": {
            "text/plain": [
              "Ridge(alpha=1.0, copy_X=True, fit_intercept=False, max_iter=None,\n",
              "   normalize=False, random_state=None, solver='lsqr', tol=0.001)"
            ]
          },
          "metadata": {
            "tags": []
          },
          "execution_count": 33
        }
      ]
    },
    {
      "metadata": {
        "id": "VEErTyopirJt",
        "colab_type": "code",
        "colab": {}
      },
      "cell_type": "code",
      "source": [
        "preds = lr.predict(X_test)"
      ],
      "execution_count": 0,
      "outputs": []
    },
    {
      "metadata": {
        "id": "eeI2ZKI1i2pD",
        "colab_type": "code",
        "outputId": "77584804-0077-43bd-8a20-165c6d7c0a07",
        "colab": {
          "base_uri": "https://localhost:8080/",
          "height": 51
        }
      },
      "cell_type": "code",
      "source": [
        "preds"
      ],
      "execution_count": 35,
      "outputs": [
        {
          "output_type": "execute_result",
          "data": {
            "text/plain": [
              "array([2.98690574, 3.15480032, 3.28924164, ..., 3.13818058, 3.02770951,\n",
              "       3.06213823])"
            ]
          },
          "metadata": {
            "tags": []
          },
          "execution_count": 35
        }
      ]
    },
    {
      "metadata": {
        "id": "yqPy23ggqqRW",
        "colab_type": "code",
        "colab": {}
      },
      "cell_type": "code",
      "source": [
        "temp=y_test"
      ],
      "execution_count": 0,
      "outputs": []
    },
    {
      "metadata": {
        "id": "m6QydEjish71",
        "colab_type": "code",
        "colab": {}
      },
      "cell_type": "code",
      "source": [
        "t1=y_test.values"
      ],
      "execution_count": 0,
      "outputs": []
    },
    {
      "metadata": {
        "id": "YXtpXUs6qO1u",
        "colab_type": "code",
        "outputId": "cca72963-c415-4344-bc42-01774959c22f",
        "colab": {
          "base_uri": "https://localhost:8080/",
          "height": 51
        }
      },
      "cell_type": "code",
      "source": [
        "t1"
      ],
      "execution_count": 37,
      "outputs": [
        {
          "output_type": "execute_result",
          "data": {
            "text/plain": [
              "array([3.21887582, 3.4657359 , 3.66356165, ..., 2.94443898, 2.99573227,\n",
              "       2.48490665])"
            ]
          },
          "metadata": {
            "tags": []
          },
          "execution_count": 37
        }
      ]
    },
    {
      "metadata": {
        "id": "mypav0C1kxqf",
        "colab_type": "code",
        "colab": {}
      },
      "cell_type": "code",
      "source": [
        "from sklearn.metrics.scorer import make_scorer"
      ],
      "execution_count": 0,
      "outputs": []
    },
    {
      "metadata": {
        "id": "jX5QHgdllWdC",
        "colab_type": "code",
        "colab": {}
      },
      "cell_type": "code",
      "source": [
        "import math"
      ],
      "execution_count": 0,
      "outputs": []
    },
    {
      "metadata": {
        "id": "Q-DVMo6kkCNf",
        "colab_type": "code",
        "colab": {}
      },
      "cell_type": "code",
      "source": [
        "def rmsle(y, y_pred):\n",
        "    assert len(y) == len(y_pred)\n",
        "    \n",
        "    to_sum = [(y_pred[i]  - y[i] )** 2.0 for i,pred in enumerate(y_pred)]\n",
        "    return (sum(to_sum) * (1.0/len(y))) ** 0.5\n",
        "    "
      ],
      "execution_count": 0,
      "outputs": []
    },
    {
      "metadata": {
        "id": "5QjLsYq0k4M3",
        "colab_type": "code",
        "colab": {}
      },
      "cell_type": "code",
      "source": [
        "e=rmsle(t1,preds)"
      ],
      "execution_count": 0,
      "outputs": []
    },
    {
      "metadata": {
        "id": "CwIAxIuK3fXx",
        "colab_type": "code",
        "colab": {
          "base_uri": "https://localhost:8080/",
          "height": 34
        },
        "outputId": "4ddcee10-794e-439c-f825-0964be5b5b11"
      },
      "cell_type": "code",
      "source": [
        "print(e)"
      ],
      "execution_count": 46,
      "outputs": [
        {
          "output_type": "stream",
          "text": [
            "0.4722876111188618\n"
          ],
          "name": "stdout"
        }
      ]
    }
  ]
}